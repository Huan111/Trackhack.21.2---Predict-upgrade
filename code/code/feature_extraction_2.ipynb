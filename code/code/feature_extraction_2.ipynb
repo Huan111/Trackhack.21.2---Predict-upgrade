{
 "cells": [
  {
   "cell_type": "markdown",
   "metadata": {},
   "source": [
    "# Feature Extraction"
   ]
  },
  {
   "cell_type": "markdown",
   "metadata": {},
   "source": [
    "This code contains some of the data exploration done during feature extraction, as well as the features themselves. At the beginning of each section, there is a list of the features that will be used in the final model, as well as any processing steps that were to be applied to it. \n",
    "\n",
    "At the very end, we run some basic evaluation steps on the data. "
   ]
  },
  {
   "cell_type": "code",
   "execution_count": 1,
   "metadata": {},
   "outputs": [
    {
     "name": "stdout",
     "output_type": "stream",
     "text": [
      "Requirement already satisfied: pandas==1.0.3 in /opt/conda/lib/python3.7/site-packages (1.0.3)\n",
      "Requirement already satisfied: python-dateutil>=2.6.1 in /opt/conda/lib/python3.7/site-packages (from pandas==1.0.3) (2.8.1)\n",
      "Requirement already satisfied: numpy>=1.13.3 in /opt/conda/lib/python3.7/site-packages (from pandas==1.0.3) (1.19.2)\n",
      "Requirement already satisfied: pytz>=2017.2 in /opt/conda/lib/python3.7/site-packages (from pandas==1.0.3) (2020.1)\n",
      "Requirement already satisfied: six>=1.5 in /opt/conda/lib/python3.7/site-packages (from python-dateutil>=2.6.1->pandas==1.0.3) (1.14.0)\n",
      "\u001b[33mWARNING: You are using pip version 20.2.4; however, version 21.0.1 is available.\n",
      "You should consider upgrading via the '/opt/conda/bin/python3.7 -m pip install --upgrade pip' command.\u001b[0m\n"
     ]
    }
   ],
   "source": [
    "# installing 1.0.3 because this version of pandas supports write to s3\n",
    "!pip install pandas==1.0.3"
   ]
  },
  {
   "cell_type": "code",
   "execution_count": 2,
   "metadata": {},
   "outputs": [],
   "source": [
    "import pandas as pd\n",
    "import matplotlib.pyplot as plt\n",
    "import math\n",
    "import numpy as np\n",
    "import os\n",
    "import re\n",
    "import pickle\n",
    "import time\n",
    "import seaborn as sns\n",
    "\n",
    "from sklearn.preprocessing import MinMaxScaler\n",
    "from sklearn.preprocessing import StandardScaler\n",
    "from sklearn.preprocessing import RobustScaler\n",
    "\n",
    "from sklearn.model_selection import train_test_split\n",
    "\n",
    "from sklearn.svm import SVC\n",
    "from sklearn.linear_model import LogisticRegression\n",
    "from sklearn.ensemble import AdaBoostClassifier\n",
    "from sklearn.ensemble import RandomForestClassifier\n",
    "from sklearn.tree import DecisionTreeClassifier\n",
    "from sklearn.neural_network import MLPClassifier\n",
    "\n",
    "from sklearn.metrics import precision_score\n",
    "from sklearn.metrics import recall_score\n",
    "from sklearn.metrics import accuracy_score\n",
    "from sklearn.metrics import f1_score\n",
    "\n",
    "pd.options.mode.chained_assignment = None  # default='warn'"
   ]
  },
  {
   "cell_type": "code",
   "execution_count": 3,
   "metadata": {},
   "outputs": [],
   "source": [
    "teamname = 'emotional-support-vector-machine-unsw'\n",
    "data_folder='s3://tf-trachack-data/212/'\n",
    "root_folder='s3://tf-trachack-notebooks/'+teamname+'/jupyter/jovyan/'"
   ]
  },
  {
   "cell_type": "code",
   "execution_count": 4,
   "metadata": {},
   "outputs": [],
   "source": [
    "def cache(obj, filepath):\n",
    "    \"\"\"Cache the result\"\"\"\n",
    "    directory = os.path.dirname(filepath)\n",
    "    if not os.path.exists(directory):\n",
    "        os.makedirs(directory)\n",
    "    \n",
    "    with open(filepath, 'wb+') as f:\n",
    "        pickle.dump(obj, f)\n",
    "\n",
    "def is_cached(filepath):\n",
    "    \"\"\"Checks if the pickle file exists\"\"\"\n",
    "    return os.path.isfile(filepath)\n",
    "\n",
    "\n",
    "def load_cache(filepath):\n",
    "    \"\"\"Load the cached result\"\"\"\n",
    "    assert is_cached(filepath)\n",
    "    \n",
    "    with open(filepath, 'rb') as f:\n",
    "        return pickle.load(f)"
   ]
  },
  {
   "cell_type": "markdown",
   "metadata": {},
   "source": [
    "## 1. Upgrades"
   ]
  },
  {
   "cell_type": "markdown",
   "metadata": {},
   "source": [
    "- `date_observed`\n",
    "    - need to make sure we only use data before this date"
   ]
  },
  {
   "cell_type": "code",
   "execution_count": 5,
   "metadata": {},
   "outputs": [
    {
     "data": {
      "text/html": [
       "<div>\n",
       "<style scoped>\n",
       "    .dataframe tbody tr th:only-of-type {\n",
       "        vertical-align: middle;\n",
       "    }\n",
       "\n",
       "    .dataframe tbody tr th {\n",
       "        vertical-align: top;\n",
       "    }\n",
       "\n",
       "    .dataframe thead th {\n",
       "        text-align: right;\n",
       "    }\n",
       "</style>\n",
       "<table border=\"1\" class=\"dataframe\">\n",
       "  <thead>\n",
       "    <tr style=\"text-align: right;\">\n",
       "      <th></th>\n",
       "      <th>line_id</th>\n",
       "      <th>date_observed</th>\n",
       "      <th>upgrade</th>\n",
       "    </tr>\n",
       "  </thead>\n",
       "  <tbody>\n",
       "    <tr>\n",
       "      <th>0</th>\n",
       "      <td>f0b99d3b-32f7-4464-8fa8-87f27c9810a8</td>\n",
       "      <td>2021-03-14</td>\n",
       "      <td>yes</td>\n",
       "    </tr>\n",
       "    <tr>\n",
       "      <th>1</th>\n",
       "      <td>a2ec0baf-1720-4b1b-bfa3-db00ac8fcb00</td>\n",
       "      <td>2021-03-10</td>\n",
       "      <td>yes</td>\n",
       "    </tr>\n",
       "    <tr>\n",
       "      <th>2</th>\n",
       "      <td>dd3a01a3-7baf-4605-9799-ce434328a20d</td>\n",
       "      <td>2021-03-10</td>\n",
       "      <td>no</td>\n",
       "    </tr>\n",
       "    <tr>\n",
       "      <th>3</th>\n",
       "      <td>5cf5917c-f407-4cc7-9d6d-dafe8ec0eccc</td>\n",
       "      <td>2021-03-13</td>\n",
       "      <td>no</td>\n",
       "    </tr>\n",
       "    <tr>\n",
       "      <th>4</th>\n",
       "      <td>6437fcbd-02c4-4c52-b5b2-f7e535ecec47</td>\n",
       "      <td>2021-03-10</td>\n",
       "      <td>yes</td>\n",
       "    </tr>\n",
       "    <tr>\n",
       "      <th>...</th>\n",
       "      <td>...</td>\n",
       "      <td>...</td>\n",
       "      <td>...</td>\n",
       "    </tr>\n",
       "    <tr>\n",
       "      <th>55863</th>\n",
       "      <td>f89b108a-f453-4419-a4dc-5bf8e1cd1f1a</td>\n",
       "      <td>2021-03-11</td>\n",
       "      <td>no</td>\n",
       "    </tr>\n",
       "    <tr>\n",
       "      <th>55864</th>\n",
       "      <td>b703f1d4-57ba-48b6-8adf-46d7aba6a406</td>\n",
       "      <td>2021-03-13</td>\n",
       "      <td>no</td>\n",
       "    </tr>\n",
       "    <tr>\n",
       "      <th>55865</th>\n",
       "      <td>e3b2212c-906e-4a8f-8307-6b88fc64d7a0</td>\n",
       "      <td>2021-03-11</td>\n",
       "      <td>no</td>\n",
       "    </tr>\n",
       "    <tr>\n",
       "      <th>55866</th>\n",
       "      <td>828df9bf-279c-47c3-96c2-92177a50b8fd</td>\n",
       "      <td>2021-03-14</td>\n",
       "      <td>no</td>\n",
       "    </tr>\n",
       "    <tr>\n",
       "      <th>55867</th>\n",
       "      <td>a0a14009-da02-4989-bdce-bc66146e0324</td>\n",
       "      <td>2021-03-11</td>\n",
       "      <td>yes</td>\n",
       "    </tr>\n",
       "  </tbody>\n",
       "</table>\n",
       "<p>55868 rows × 3 columns</p>\n",
       "</div>"
      ],
      "text/plain": [
       "                                    line_id date_observed upgrade\n",
       "0      f0b99d3b-32f7-4464-8fa8-87f27c9810a8    2021-03-14     yes\n",
       "1      a2ec0baf-1720-4b1b-bfa3-db00ac8fcb00    2021-03-10     yes\n",
       "2      dd3a01a3-7baf-4605-9799-ce434328a20d    2021-03-10      no\n",
       "3      5cf5917c-f407-4cc7-9d6d-dafe8ec0eccc    2021-03-13      no\n",
       "4      6437fcbd-02c4-4c52-b5b2-f7e535ecec47    2021-03-10     yes\n",
       "...                                     ...           ...     ...\n",
       "55863  f89b108a-f453-4419-a4dc-5bf8e1cd1f1a    2021-03-11      no\n",
       "55864  b703f1d4-57ba-48b6-8adf-46d7aba6a406    2021-03-13      no\n",
       "55865  e3b2212c-906e-4a8f-8307-6b88fc64d7a0    2021-03-11      no\n",
       "55866  828df9bf-279c-47c3-96c2-92177a50b8fd    2021-03-14      no\n",
       "55867  a0a14009-da02-4989-bdce-bc66146e0324    2021-03-11     yes\n",
       "\n",
       "[55868 rows x 3 columns]"
      ]
     },
     "execution_count": 5,
     "metadata": {},
     "output_type": "execute_result"
    }
   ],
   "source": [
    "upgrades=pd.read_csv(data_folder+\"data/dev/upgrades.csv\")\n",
    "upgrades"
   ]
  },
  {
   "cell_type": "code",
   "execution_count": 6,
   "metadata": {},
   "outputs": [
    {
     "data": {
      "text/plain": [
       "no     40694\n",
       "yes    15174\n",
       "Name: upgrade, dtype: int64"
      ]
     },
     "execution_count": 6,
     "metadata": {},
     "output_type": "execute_result"
    }
   ],
   "source": [
    "upgrades['upgrade'].value_counts()"
   ]
  },
  {
   "cell_type": "code",
   "execution_count": 7,
   "metadata": {},
   "outputs": [],
   "source": [
    "NUM_CUSTOMERS = len(upgrades)"
   ]
  },
  {
   "cell_type": "code",
   "execution_count": 8,
   "metadata": {},
   "outputs": [
    {
     "data": {
      "text/html": [
       "<div>\n",
       "<style scoped>\n",
       "    .dataframe tbody tr th:only-of-type {\n",
       "        vertical-align: middle;\n",
       "    }\n",
       "\n",
       "    .dataframe tbody tr th {\n",
       "        vertical-align: top;\n",
       "    }\n",
       "\n",
       "    .dataframe thead th {\n",
       "        text-align: right;\n",
       "    }\n",
       "</style>\n",
       "<table border=\"1\" class=\"dataframe\">\n",
       "  <thead>\n",
       "    <tr style=\"text-align: right;\">\n",
       "      <th></th>\n",
       "      <th>line_id</th>\n",
       "      <th>upgrade</th>\n",
       "    </tr>\n",
       "  </thead>\n",
       "  <tbody>\n",
       "    <tr>\n",
       "      <th>0</th>\n",
       "      <td>f0b99d3b-32f7-4464-8fa8-87f27c9810a8</td>\n",
       "      <td>1</td>\n",
       "    </tr>\n",
       "    <tr>\n",
       "      <th>1</th>\n",
       "      <td>a2ec0baf-1720-4b1b-bfa3-db00ac8fcb00</td>\n",
       "      <td>1</td>\n",
       "    </tr>\n",
       "  </tbody>\n",
       "</table>\n",
       "</div>"
      ],
      "text/plain": [
       "                                line_id  upgrade\n",
       "0  f0b99d3b-32f7-4464-8fa8-87f27c9810a8        1\n",
       "1  a2ec0baf-1720-4b1b-bfa3-db00ac8fcb00        1"
      ]
     },
     "execution_count": 8,
     "metadata": {},
     "output_type": "execute_result"
    }
   ],
   "source": [
    "def extract1(upgrades, filepath=None, overwrite=False):\n",
    "    upgrades = upgrades.drop('date_observed', axis=1)\n",
    "    df1 = upgrades.replace({'no':0,'yes':1})\n",
    "    return df1\n",
    "\n",
    "df1 = extract1(upgrades)\n",
    "df1.head(2)"
   ]
  },
  {
   "cell_type": "markdown",
   "metadata": {},
   "source": [
    "## 2. Customer Info"
   ]
  },
  {
   "cell_type": "markdown",
   "metadata": {},
   "source": [
    "- `carrier`\n",
    "    - one hot encode, only three carriers\n",
    "- `first_activation_date`\n",
    "    - compute `years passed`, `months passed`, `log of years passed`, `log of months passed`\n",
    "- `plan_name`\n",
    "    - can be either plan 1 - 4, or other\n",
    "    - one hot encode\n",
    "- `plan_subtype`\n",
    "    - Basically all of these are NULL or NAN. Just drop this column.\n",
    "- `redemption_date`\n",
    "    - Most recent date the customer redeemed the plan(?)\n",
    "    - Use the difference between this and `first_activation_date` to get an estimate of how recently they've been using tracphones service.\n",
    "    - Perhaps take a log as well. "
   ]
  },
  {
   "cell_type": "code",
   "execution_count": 9,
   "metadata": {},
   "outputs": [
    {
     "data": {
      "text/html": [
       "<div>\n",
       "<style scoped>\n",
       "    .dataframe tbody tr th:only-of-type {\n",
       "        vertical-align: middle;\n",
       "    }\n",
       "\n",
       "    .dataframe tbody tr th {\n",
       "        vertical-align: top;\n",
       "    }\n",
       "\n",
       "    .dataframe thead th {\n",
       "        text-align: right;\n",
       "    }\n",
       "</style>\n",
       "<table border=\"1\" class=\"dataframe\">\n",
       "  <thead>\n",
       "    <tr style=\"text-align: right;\">\n",
       "      <th></th>\n",
       "      <th>line_id</th>\n",
       "      <th>carrier</th>\n",
       "      <th>first_activation_date</th>\n",
       "      <th>plan_name</th>\n",
       "      <th>plan_subtype</th>\n",
       "      <th>redemption_date</th>\n",
       "    </tr>\n",
       "  </thead>\n",
       "  <tbody>\n",
       "    <tr>\n",
       "      <th>0</th>\n",
       "      <td>e1b8b731-f3c6-4a8a-b09c-f3556888c868</td>\n",
       "      <td>carrier 1</td>\n",
       "      <td>2017-12-12</td>\n",
       "      <td>NaN</td>\n",
       "      <td>NaN</td>\n",
       "      <td>NaN</td>\n",
       "    </tr>\n",
       "    <tr>\n",
       "      <th>1</th>\n",
       "      <td>51c1e947-f8a4-4a9c-94f8-45f52198f329</td>\n",
       "      <td>carrier 1</td>\n",
       "      <td>2021-01-18</td>\n",
       "      <td>plan 2</td>\n",
       "      <td>[NULL]</td>\n",
       "      <td>2021-02-25</td>\n",
       "    </tr>\n",
       "    <tr>\n",
       "      <th>2</th>\n",
       "      <td>ba024df0-cfa9-4c88-ac48-87e0c055f650</td>\n",
       "      <td>carrier 1</td>\n",
       "      <td>2018-01-16</td>\n",
       "      <td>NaN</td>\n",
       "      <td>NaN</td>\n",
       "      <td>NaN</td>\n",
       "    </tr>\n",
       "    <tr>\n",
       "      <th>3</th>\n",
       "      <td>21be69d6-5ebf-4449-bc0a-828ac5ea5d8a</td>\n",
       "      <td>carrier 1</td>\n",
       "      <td>2021-01-18</td>\n",
       "      <td>plan 1</td>\n",
       "      <td>[NULL]</td>\n",
       "      <td>2021-01-18</td>\n",
       "    </tr>\n",
       "    <tr>\n",
       "      <th>4</th>\n",
       "      <td>1f385125-deed-424b-9a29-13b1c6dc3dda</td>\n",
       "      <td>carrier 1</td>\n",
       "      <td>2020-10-31</td>\n",
       "      <td>plan 1</td>\n",
       "      <td>[NULL]</td>\n",
       "      <td>2021-02-02</td>\n",
       "    </tr>\n",
       "    <tr>\n",
       "      <th>...</th>\n",
       "      <td>...</td>\n",
       "      <td>...</td>\n",
       "      <td>...</td>\n",
       "      <td>...</td>\n",
       "      <td>...</td>\n",
       "      <td>...</td>\n",
       "    </tr>\n",
       "    <tr>\n",
       "      <th>55863</th>\n",
       "      <td>8052a7e7-2c09-4873-a583-f9dd7f02e27b</td>\n",
       "      <td>carrier 1</td>\n",
       "      <td>2017-10-30</td>\n",
       "      <td>plan 1</td>\n",
       "      <td>[NULL]</td>\n",
       "      <td>2021-02-21</td>\n",
       "    </tr>\n",
       "    <tr>\n",
       "      <th>55864</th>\n",
       "      <td>8eacf359-f96a-4749-92f1-ef500d0e064e</td>\n",
       "      <td>carrier 1</td>\n",
       "      <td>2021-01-26</td>\n",
       "      <td>NaN</td>\n",
       "      <td>NaN</td>\n",
       "      <td>NaN</td>\n",
       "    </tr>\n",
       "    <tr>\n",
       "      <th>55865</th>\n",
       "      <td>76531942-f047-4f2c-b2d2-c986312bd723</td>\n",
       "      <td>carrier 1</td>\n",
       "      <td>NaN</td>\n",
       "      <td>NaN</td>\n",
       "      <td>NaN</td>\n",
       "      <td>NaN</td>\n",
       "    </tr>\n",
       "    <tr>\n",
       "      <th>55866</th>\n",
       "      <td>62ca5877-391e-47aa-8956-80dda4af35e9</td>\n",
       "      <td>carrier 1</td>\n",
       "      <td>2020-10-02</td>\n",
       "      <td>plan 2</td>\n",
       "      <td>[NULL]</td>\n",
       "      <td>2021-02-25</td>\n",
       "    </tr>\n",
       "    <tr>\n",
       "      <th>55867</th>\n",
       "      <td>57222ddf-0320-4c82-b0de-93da52406721</td>\n",
       "      <td>carrier 1</td>\n",
       "      <td>2019-11-25</td>\n",
       "      <td>NaN</td>\n",
       "      <td>NaN</td>\n",
       "      <td>NaN</td>\n",
       "    </tr>\n",
       "  </tbody>\n",
       "</table>\n",
       "<p>55868 rows × 6 columns</p>\n",
       "</div>"
      ],
      "text/plain": [
       "                                    line_id    carrier first_activation_date  \\\n",
       "0      e1b8b731-f3c6-4a8a-b09c-f3556888c868  carrier 1            2017-12-12   \n",
       "1      51c1e947-f8a4-4a9c-94f8-45f52198f329  carrier 1            2021-01-18   \n",
       "2      ba024df0-cfa9-4c88-ac48-87e0c055f650  carrier 1            2018-01-16   \n",
       "3      21be69d6-5ebf-4449-bc0a-828ac5ea5d8a  carrier 1            2021-01-18   \n",
       "4      1f385125-deed-424b-9a29-13b1c6dc3dda  carrier 1            2020-10-31   \n",
       "...                                     ...        ...                   ...   \n",
       "55863  8052a7e7-2c09-4873-a583-f9dd7f02e27b  carrier 1            2017-10-30   \n",
       "55864  8eacf359-f96a-4749-92f1-ef500d0e064e  carrier 1            2021-01-26   \n",
       "55865  76531942-f047-4f2c-b2d2-c986312bd723  carrier 1                   NaN   \n",
       "55866  62ca5877-391e-47aa-8956-80dda4af35e9  carrier 1            2020-10-02   \n",
       "55867  57222ddf-0320-4c82-b0de-93da52406721  carrier 1            2019-11-25   \n",
       "\n",
       "      plan_name plan_subtype redemption_date  \n",
       "0           NaN          NaN             NaN  \n",
       "1        plan 2       [NULL]      2021-02-25  \n",
       "2           NaN          NaN             NaN  \n",
       "3        plan 1       [NULL]      2021-01-18  \n",
       "4        plan 1       [NULL]      2021-02-02  \n",
       "...         ...          ...             ...  \n",
       "55863    plan 1       [NULL]      2021-02-21  \n",
       "55864       NaN          NaN             NaN  \n",
       "55865       NaN          NaN             NaN  \n",
       "55866    plan 2       [NULL]      2021-02-25  \n",
       "55867       NaN          NaN             NaN  \n",
       "\n",
       "[55868 rows x 6 columns]"
      ]
     },
     "execution_count": 9,
     "metadata": {},
     "output_type": "execute_result"
    }
   ],
   "source": [
    "customer_info=pd.read_csv(data_folder+\"data/dev/customer_info.csv\")\n",
    "customer_info"
   ]
  },
  {
   "cell_type": "code",
   "execution_count": 10,
   "metadata": {},
   "outputs": [
    {
     "data": {
      "text/plain": [
       "carrier 1    51277\n",
       "carrier 3     2485\n",
       "carrier 2     2106\n",
       "Name: carrier, dtype: int64"
      ]
     },
     "execution_count": 10,
     "metadata": {},
     "output_type": "execute_result"
    }
   ],
   "source": [
    "customer_info['carrier'].value_counts()"
   ]
  },
  {
   "cell_type": "code",
   "execution_count": 11,
   "metadata": {},
   "outputs": [
    {
     "data": {
      "text/plain": [
       "plan 1    16767\n",
       "plan 2    13386\n",
       "plan 3     9502\n",
       "Other      2212\n",
       "plan 4      145\n",
       "Name: plan_name, dtype: int64"
      ]
     },
     "execution_count": 11,
     "metadata": {},
     "output_type": "execute_result"
    }
   ],
   "source": [
    "customer_info['plan_name'].value_counts()"
   ]
  },
  {
   "cell_type": "code",
   "execution_count": 12,
   "metadata": {},
   "outputs": [
    {
     "data": {
      "text/plain": [
       "Text(0.5, 1.0, 'Plan Distribution')"
      ]
     },
     "execution_count": 12,
     "metadata": {},
     "output_type": "execute_result"
    },
    {
     "data": {
      "image/png": "[encoded data removed]",
      "text/plain": [
       "<Figure size 864x432 with 2 Axes>"
      ]
     },
     "metadata": {
      "needs_background": "light"
     },
     "output_type": "display_data"
    }
   ],
   "source": [
    "fig, axs = plt.subplots(1,2, figsize=(12,6))\n",
    "fig.tight_layout()\n",
    "\n",
    "axs[0].bar(['carrier 1', 'carrier 2', 'carrier 3'], customer_info['carrier'].value_counts(), color=sns.color_palette('pastel'))\n",
    "axs[0].set_title('Carrier Distribution')\n",
    "axs[1].bar(['plan 1', 'plan 2', 'plan 3', 'other', 'plan 4'], customer_info['plan_name'].value_counts(), color=sns.color_palette('pastel'))\n",
    "axs[1].set_title('Plan Distribution')"
   ]
  },
  {
   "cell_type": "code",
   "execution_count": 13,
   "metadata": {},
   "outputs": [
    {
     "data": {
      "text/plain": [
       "[NULL]    42011\n",
       "ADD ON        1\n",
       "Name: plan_subtype, dtype: int64"
      ]
     },
     "execution_count": 13,
     "metadata": {},
     "output_type": "execute_result"
    }
   ],
   "source": [
    "customer_info['plan_subtype'].value_counts()"
   ]
  },
  {
   "cell_type": "code",
   "execution_count": 14,
   "metadata": {
    "scrolled": false
   },
   "outputs": [
    {
     "name": "stdout",
     "output_type": "stream",
     "text": [
      "number of people who redeemed 42012\n"
     ]
    },
    {
     "data": {
      "image/png": "[encoded data removed]",
      "text/plain": [
       "<Figure size 576x288 with 2 Axes>"
      ]
     },
     "metadata": {
      "needs_background": "light"
     },
     "output_type": "display_data"
    }
   ],
   "source": [
    "date1 = pd.to_datetime(customer_info.dropna().first_activation_date, format=\"%Y-%m-%d\")\n",
    "date2 = pd.to_datetime(customer_info.dropna().redemption_date, format=\"%Y-%m-%d\")\n",
    "log_days = np.log((date2 - date1).dt.days+1)\n",
    "\n",
    "print(f\"number of people who redeemed {len(log_days)}\")\n",
    "\n",
    "fig, axs = plt.subplots(1,2, figsize=(8,4))\n",
    "axs[0].set_title(\"Days passed between first activation and redemption\")\n",
    "axs[0].hist((date2 - date1).dt.days+1, bins=20);\n",
    "axs[1].set_title(\"Log Days\")\n",
    "axs[1].hist(log_days, bins=20);"
   ]
  },
  {
   "cell_type": "code",
   "execution_count": 15,
   "metadata": {},
   "outputs": [
    {
     "data": {
      "text/html": [
       "<div>\n",
       "<style scoped>\n",
       "    .dataframe tbody tr th:only-of-type {\n",
       "        vertical-align: middle;\n",
       "    }\n",
       "\n",
       "    .dataframe tbody tr th {\n",
       "        vertical-align: top;\n",
       "    }\n",
       "\n",
       "    .dataframe thead th {\n",
       "        text-align: right;\n",
       "    }\n",
       "</style>\n",
       "<table border=\"1\" class=\"dataframe\">\n",
       "  <thead>\n",
       "    <tr style=\"text-align: right;\">\n",
       "      <th></th>\n",
       "      <th>line_id</th>\n",
       "      <th>carrier_carrier 1</th>\n",
       "      <th>carrier_carrier 2</th>\n",
       "      <th>carrier_carrier 3</th>\n",
       "      <th>days_to_redemption</th>\n",
       "      <th>plan_Other</th>\n",
       "      <th>plan_plan 1</th>\n",
       "      <th>plan_plan 2</th>\n",
       "      <th>plan_plan 3</th>\n",
       "      <th>plan_plan 4</th>\n",
       "    </tr>\n",
       "  </thead>\n",
       "  <tbody>\n",
       "    <tr>\n",
       "      <th>0</th>\n",
       "      <td>e1b8b731-f3c6-4a8a-b09c-f3556888c868</td>\n",
       "      <td>1</td>\n",
       "      <td>0</td>\n",
       "      <td>0</td>\n",
       "      <td>0.618770</td>\n",
       "      <td>0</td>\n",
       "      <td>0</td>\n",
       "      <td>0</td>\n",
       "      <td>0</td>\n",
       "      <td>0</td>\n",
       "    </tr>\n",
       "    <tr>\n",
       "      <th>1</th>\n",
       "      <td>51c1e947-f8a4-4a9c-94f8-45f52198f329</td>\n",
       "      <td>1</td>\n",
       "      <td>0</td>\n",
       "      <td>0</td>\n",
       "      <td>0.452418</td>\n",
       "      <td>0</td>\n",
       "      <td>0</td>\n",
       "      <td>1</td>\n",
       "      <td>0</td>\n",
       "      <td>0</td>\n",
       "    </tr>\n",
       "  </tbody>\n",
       "</table>\n",
       "</div>"
      ],
      "text/plain": [
       "                                line_id  carrier_carrier 1  carrier_carrier 2  \\\n",
       "0  e1b8b731-f3c6-4a8a-b09c-f3556888c868                  1                  0   \n",
       "1  51c1e947-f8a4-4a9c-94f8-45f52198f329                  1                  0   \n",
       "\n",
       "   carrier_carrier 3  days_to_redemption  plan_Other  plan_plan 1  \\\n",
       "0                  0            0.618770           0            0   \n",
       "1                  0            0.452418           0            0   \n",
       "\n",
       "   plan_plan 2  plan_plan 3  plan_plan 4  \n",
       "0            0            0            0  \n",
       "1            1            0            0  "
      ]
     },
     "execution_count": 15,
     "metadata": {},
     "output_type": "execute_result"
    }
   ],
   "source": [
    "def extract2(customer_info, filepath=None, overwrite=False):\n",
    "    customer_info = customer_info.copy()\n",
    "    \n",
    "    df2 = customer_info.copy()\n",
    "    df2 = pd.concat([df2, pd.get_dummies(df2['carrier'], prefix='carrier')], axis=1)\n",
    "\n",
    "    date1 = pd.to_datetime(df2['first_activation_date'], format=\"%Y-%m-%d\")\n",
    "    date2 = pd.to_datetime(df2['redemption_date'], format=\"%Y-%m-%d\")\n",
    "    df2[\"days_to_redemption\"] = np.log((date2 - date1).dt.days+1)\n",
    "    df2['days_to_redemption'].fillna((df2['days_to_redemption'].median()), inplace=True)    \n",
    "    scaler = MinMaxScaler()\n",
    "    df2['days_to_redemption'] = scaler.fit_transform(df2['days_to_redemption'].values.reshape(-1,1))\n",
    "\n",
    "    df2 = pd.concat([\n",
    "        df2,\n",
    "        pd.get_dummies(df2['plan_name'], prefix='plan')\n",
    "    ], axis=1)\n",
    "\n",
    "    df2.drop(\n",
    "        ['carrier', 'first_activation_date', 'plan_subtype', 'redemption_date', 'plan_name'], \n",
    "        axis=1, inplace=True\n",
    "    )\n",
    "\n",
    "    return df2\n",
    "\n",
    "df2 = extract2(customer_info)\n",
    "df2.head(2)"
   ]
  },
  {
   "cell_type": "markdown",
   "metadata": {},
   "source": [
    "## 3. Phone Info"
   ]
  },
  {
   "cell_type": "markdown",
   "metadata": {},
   "source": [
    "- `cpu_cores`, `expandable_storage`\n",
    "    - Set Nan to 1 for CPU\n",
    "    - Set Nan to 0 for expandable_storage\n",
    "    - Measure of how good the phone is\n",
    "    - If its a sum, make sure to add them together.\n",
    "- `gsma_device_type`\n",
    "    - Smartphone, Mobile Phone. Handheld, WLAN Router, Tablet, Modem\n",
    "    - one hot encode this\n",
    "- `gsma_model_name`\n",
    "    - Only 11571 / 55868 nulls.\n",
    "    - 869 values, most of which are just 1\n",
    "    - Can just treat anything under 100 or NAN as 'other'\n",
    "- `gsma_operating_system`\n",
    "    - 90% are in Android, IOS, Linux, or Unknown\n",
    "    - A few of the other fields can be merged into one of the above\n",
    "    - Can safely treat everything else as 'Other', and just not have that field when one hot encoding\n",
    "- `time_since_phone_release`\n",
    "    - Time in months, logged\n",
    "- `internal_storage_capacity`\n",
    "    - Set NaN to average\n",
    "    - For everything else, split up and pick the median. \n",
    "- `lte`, `lte_advanced`, `touch_screen`, `wi_fi`\n",
    "    - Set Nan to 0\n",
    "- `lte_category`\n",
    "    - This is categorical, not numerical\n",
    "    - <https://www.cablefree.net/wirelesstechnology/4glte/lte-ue-category-class-definitions/>\n",
    "    - Look at this link to see the upload and download speeds, and use that as new features\n",
    "- `total_ram`\n",
    "    - Set Nan to median\n",
    "- `years_since_released`\n",
    "    - Get log of that to the current date."
   ]
  },
  {
   "cell_type": "code",
   "execution_count": 16,
   "metadata": {
    "scrolled": true
   },
   "outputs": [
    {
     "data": {
      "text/html": [
       "<div>\n",
       "<style scoped>\n",
       "    .dataframe tbody tr th:only-of-type {\n",
       "        vertical-align: middle;\n",
       "    }\n",
       "\n",
       "    .dataframe tbody tr th {\n",
       "        vertical-align: top;\n",
       "    }\n",
       "\n",
       "    .dataframe thead th {\n",
       "        text-align: right;\n",
       "    }\n",
       "</style>\n",
       "<table border=\"1\" class=\"dataframe\">\n",
       "  <thead>\n",
       "    <tr style=\"text-align: right;\">\n",
       "      <th></th>\n",
       "      <th>line_id</th>\n",
       "      <th>cpu_cores</th>\n",
       "      <th>expandable_storage</th>\n",
       "      <th>gsma_device_type</th>\n",
       "      <th>gsma_model_name</th>\n",
       "      <th>gsma_operating_system</th>\n",
       "      <th>internal_storage_capacity</th>\n",
       "      <th>lte</th>\n",
       "      <th>lte_advanced</th>\n",
       "      <th>lte_category</th>\n",
       "      <th>manufacturer</th>\n",
       "      <th>os_family</th>\n",
       "      <th>os_name</th>\n",
       "      <th>os_vendor</th>\n",
       "      <th>os_version</th>\n",
       "      <th>sim_size</th>\n",
       "      <th>total_ram</th>\n",
       "      <th>touch_screen</th>\n",
       "      <th>wi_fi</th>\n",
       "      <th>year_released</th>\n",
       "    </tr>\n",
       "  </thead>\n",
       "  <tbody>\n",
       "    <tr>\n",
       "      <th>0</th>\n",
       "      <td>8803884c-38df-4243-a522-891c2117790c</td>\n",
       "      <td>4</td>\n",
       "      <td>0.0</td>\n",
       "      <td>Smartphone</td>\n",
       "      <td>iPhone 7 (A1779)</td>\n",
       "      <td>iOS</td>\n",
       "      <td>32/128/256</td>\n",
       "      <td>1.0</td>\n",
       "      <td>1.0</td>\n",
       "      <td>9.0</td>\n",
       "      <td>Apple</td>\n",
       "      <td>iOS</td>\n",
       "      <td>iOS</td>\n",
       "      <td>Apple</td>\n",
       "      <td>10</td>\n",
       "      <td>Nano</td>\n",
       "      <td>2048</td>\n",
       "      <td>1.0</td>\n",
       "      <td>1.0</td>\n",
       "      <td>2016.0</td>\n",
       "    </tr>\n",
       "    <tr>\n",
       "      <th>1</th>\n",
       "      <td>75b2d7a7-c4f8-4cf2-af32-ab25b5dffacc</td>\n",
       "      <td>8</td>\n",
       "      <td>1.0</td>\n",
       "      <td>Smartphone</td>\n",
       "      <td>SM-N975U</td>\n",
       "      <td>Android</td>\n",
       "      <td>256</td>\n",
       "      <td>1.0</td>\n",
       "      <td>1.0</td>\n",
       "      <td>20.0</td>\n",
       "      <td>Samsung</td>\n",
       "      <td>Android</td>\n",
       "      <td>Android</td>\n",
       "      <td>Google</td>\n",
       "      <td>9</td>\n",
       "      <td>Nano</td>\n",
       "      <td>8192</td>\n",
       "      <td>1.0</td>\n",
       "      <td>1.0</td>\n",
       "      <td>2019.0</td>\n",
       "    </tr>\n",
       "    <tr>\n",
       "      <th>2</th>\n",
       "      <td>7f10447b-7ce6-4297-9011-8273b11354ee</td>\n",
       "      <td>2+4</td>\n",
       "      <td>0.0</td>\n",
       "      <td>Smartphone</td>\n",
       "      <td>iPhone XR (A1984)</td>\n",
       "      <td>iOS</td>\n",
       "      <td>64/128/256</td>\n",
       "      <td>1.0</td>\n",
       "      <td>1.0</td>\n",
       "      <td>12.0</td>\n",
       "      <td>Apple</td>\n",
       "      <td>iOS</td>\n",
       "      <td>iOS</td>\n",
       "      <td>Apple</td>\n",
       "      <td>12</td>\n",
       "      <td>Nano</td>\n",
       "      <td>3072</td>\n",
       "      <td>1.0</td>\n",
       "      <td>1.0</td>\n",
       "      <td>2018.0</td>\n",
       "    </tr>\n",
       "    <tr>\n",
       "      <th>3</th>\n",
       "      <td>50579bcb-6413-4dfb-865d-f11d3adad1fe</td>\n",
       "      <td>NaN</td>\n",
       "      <td>NaN</td>\n",
       "      <td>Smartphone</td>\n",
       "      <td>SM-G986U1</td>\n",
       "      <td>Android</td>\n",
       "      <td>NaN</td>\n",
       "      <td>NaN</td>\n",
       "      <td>NaN</td>\n",
       "      <td>NaN</td>\n",
       "      <td>NaN</td>\n",
       "      <td>NaN</td>\n",
       "      <td>NaN</td>\n",
       "      <td>NaN</td>\n",
       "      <td>NaN</td>\n",
       "      <td>NaN</td>\n",
       "      <td>NaN</td>\n",
       "      <td>NaN</td>\n",
       "      <td>NaN</td>\n",
       "      <td>NaN</td>\n",
       "    </tr>\n",
       "    <tr>\n",
       "      <th>4</th>\n",
       "      <td>c56e177c-0514-493c-bbc2-7e2c9308aa73</td>\n",
       "      <td>NaN</td>\n",
       "      <td>NaN</td>\n",
       "      <td>Smartphone</td>\n",
       "      <td>LG L722DL</td>\n",
       "      <td>Android</td>\n",
       "      <td>NaN</td>\n",
       "      <td>NaN</td>\n",
       "      <td>NaN</td>\n",
       "      <td>NaN</td>\n",
       "      <td>NaN</td>\n",
       "      <td>NaN</td>\n",
       "      <td>NaN</td>\n",
       "      <td>NaN</td>\n",
       "      <td>NaN</td>\n",
       "      <td>NaN</td>\n",
       "      <td>NaN</td>\n",
       "      <td>NaN</td>\n",
       "      <td>NaN</td>\n",
       "      <td>NaN</td>\n",
       "    </tr>\n",
       "  </tbody>\n",
       "</table>\n",
       "</div>"
      ],
      "text/plain": [
       "                                line_id cpu_cores  expandable_storage  \\\n",
       "0  8803884c-38df-4243-a522-891c2117790c         4                 0.0   \n",
       "1  75b2d7a7-c4f8-4cf2-af32-ab25b5dffacc         8                 1.0   \n",
       "2  7f10447b-7ce6-4297-9011-8273b11354ee       2+4                 0.0   \n",
       "3  50579bcb-6413-4dfb-865d-f11d3adad1fe       NaN                 NaN   \n",
       "4  c56e177c-0514-493c-bbc2-7e2c9308aa73       NaN                 NaN   \n",
       "\n",
       "  gsma_device_type    gsma_model_name gsma_operating_system  \\\n",
       "0       Smartphone   iPhone 7 (A1779)                   iOS   \n",
       "1       Smartphone           SM-N975U               Android   \n",
       "2       Smartphone  iPhone XR (A1984)                   iOS   \n",
       "3       Smartphone          SM-G986U1               Android   \n",
       "4       Smartphone          LG L722DL               Android   \n",
       "\n",
       "  internal_storage_capacity  lte  lte_advanced  lte_category manufacturer  \\\n",
       "0                32/128/256  1.0           1.0           9.0        Apple   \n",
       "1                       256  1.0           1.0          20.0      Samsung   \n",
       "2                64/128/256  1.0           1.0          12.0        Apple   \n",
       "3                       NaN  NaN           NaN           NaN          NaN   \n",
       "4                       NaN  NaN           NaN           NaN          NaN   \n",
       "\n",
       "  os_family  os_name os_vendor os_version sim_size total_ram  touch_screen  \\\n",
       "0       iOS      iOS     Apple         10     Nano      2048           1.0   \n",
       "1   Android  Android    Google          9     Nano      8192           1.0   \n",
       "2       iOS      iOS     Apple         12     Nano      3072           1.0   \n",
       "3       NaN      NaN       NaN        NaN      NaN       NaN           NaN   \n",
       "4       NaN      NaN       NaN        NaN      NaN       NaN           NaN   \n",
       "\n",
       "   wi_fi  year_released  \n",
       "0    1.0         2016.0  \n",
       "1    1.0         2019.0  \n",
       "2    1.0         2018.0  \n",
       "3    NaN            NaN  \n",
       "4    NaN            NaN  "
      ]
     },
     "execution_count": 16,
     "metadata": {},
     "output_type": "execute_result"
    }
   ],
   "source": [
    "phone_info=pd.read_csv(data_folder+\"data/dev/phone_info.csv\")\n",
    "phone_info.head(5)"
   ]
  },
  {
   "cell_type": "code",
   "execution_count": 17,
   "metadata": {},
   "outputs": [
    {
     "data": {
      "text/plain": [
       "55868"
      ]
     },
     "execution_count": 17,
     "metadata": {},
     "output_type": "execute_result"
    }
   ],
   "source": [
    "len(phone_info)"
   ]
  },
  {
   "cell_type": "code",
   "execution_count": 18,
   "metadata": {},
   "outputs": [
    {
     "name": "stdout",
     "output_type": "stream",
     "text": [
      "Smartphone                    43230\n",
      "Mobile Phone/Feature phone      944\n",
      "Handheld                        119\n",
      "WLAN Router                       2\n",
      "Tablet                            1\n",
      "Modem                             1\n",
      "Name: gsma_device_type, dtype: int64\n"
     ]
    }
   ],
   "source": [
    "print(phone_info['gsma_device_type'].value_counts())\n"
   ]
  },
  {
   "cell_type": "code",
   "execution_count": 19,
   "metadata": {},
   "outputs": [
    {
     "data": {
      "text/plain": [
       "NaN                       11571\n",
       "iPhone 7 (A1660)           5405\n",
       "iPhone 6S (A1633)          3188\n",
       "XT2005DL                   2311\n",
       "iPhone 6S Plus (A1634)     1726\n",
       "                          ...  \n",
       "LG-H810                       1\n",
       "LG-H873                       1\n",
       "LG-LS777                      1\n",
       "iPhone 6S Plus (A1699)        1\n",
       "LG-M210                       1\n",
       "Name: gsma_model_name, Length: 869, dtype: int64"
      ]
     },
     "execution_count": 19,
     "metadata": {},
     "output_type": "execute_result"
    }
   ],
   "source": [
    "phone_info['gsma_model_name'].value_counts(dropna=False)"
   ]
  },
  {
   "cell_type": "code",
   "execution_count": 20,
   "metadata": {},
   "outputs": [
    {
     "name": "stdout",
     "output_type": "stream",
     "text": [
      "Android              22291\n",
      "iOS                  21129\n",
      "NaN                  11571\n",
      "Not Known              540\n",
      "NONE                   192\n",
      "Linux                  112\n",
      "Not Known,iOS           10\n",
      "Other                    6\n",
      "Android,Not Known        6\n",
      "KaiOS                    3\n",
      "Windows Phone            3\n",
      "Android,MTK              1\n",
      "Android,SC6800H          1\n",
      "Not known                1\n",
      "Blackberry               1\n",
      "Not known,iOS            1\n",
      "Name: gsma_operating_system, dtype: int64\n"
     ]
    }
   ],
   "source": [
    "with pd.option_context(\"display.max_rows\", 20):\n",
    "    print(phone_info['gsma_operating_system'].value_counts(dropna=False))"
   ]
  },
  {
   "cell_type": "code",
   "execution_count": 21,
   "metadata": {},
   "outputs": [],
   "source": [
    "def minmax_scale(series):\n",
    "    scaler = MinMaxScaler()\n",
    "    return scaler.fit_transform(series.values.reshape(-1,1))\n",
    "\n",
    "def standard_scale(series):\n",
    "    scaler = StandardScaler()\n",
    "    return scaler.fit_transform(series.values.reshape(-1,1))\n",
    "\n",
    "def robust_scale(series):\n",
    "    scaler = RobustScaler()\n",
    "    return scaler.fit_transform(series.values.reshape(-1,1))"
   ]
  },
  {
   "cell_type": "code",
   "execution_count": 22,
   "metadata": {},
   "outputs": [],
   "source": [
    "def get_first_number(s):\n",
    "    return int(re.search(r'\\d+', str(s)).group())"
   ]
  },
  {
   "cell_type": "code",
   "execution_count": 23,
   "metadata": {},
   "outputs": [],
   "source": [
    "def split_external_storage_capacity(s):\n",
    "    s = str(s)\n",
    "    if s == 'nan':\n",
    "        return np.nan\n",
    "    if '.' in s:\n",
    "        return float(s)\n",
    "    capacities = np.array(list(map(float, s.split('/'))))\n",
    "    capacity = np.median(capacities)\n",
    "    return capacity"
   ]
  },
  {
   "cell_type": "code",
   "execution_count": 24,
   "metadata": {},
   "outputs": [],
   "source": [
    "def convert_to_datetime(series):\n",
    "    return pd.to_datetime(series, format=\"%Y-%m-%d\")"
   ]
  },
  {
   "cell_type": "code",
   "execution_count": 25,
   "metadata": {},
   "outputs": [],
   "source": [
    "lte_downlink = {0:1,1:10,2:50,3:100,4:150,5:300,6:300,7:300,8:3000,9:450,10:450,11:600,12:600,13:390,14:3900,15:800,16:1050,17:25000,18:1200,19:1600,20:2000,21:1400}\n",
    "lte_uplink = {0:1,1:5,2:25,3:50,4:50,5:75,6:50,7:100,8:1500,9:50,10:100,11:50,12:100,13:150,14:1500,15:220,16:100,17:2100,18:210,19:13500,20:315,21:300}    "
   ]
  },
  {
   "cell_type": "code",
   "execution_count": 26,
   "metadata": {
    "scrolled": false
   },
   "outputs": [],
   "source": [
    "def extract3(phone_info, upgrades, filepath=None, overwrite=False):\n",
    "    if not filepath:\n",
    "        filepath = \"pickles/df3.pickle\"\n",
    "    if is_cached(filepath) and not overwrite:\n",
    "        return load_cache(filepath)\n",
    "    \n",
    "    phone_info = phone_info.copy()\n",
    "    \n",
    "    # get has_phone\n",
    "    df3 = phone_info.copy()\n",
    "    df3['has_phone'] = np.where(df3['cpu_cores'].isnull(), 0, 1)\n",
    "\n",
    "    # get total cpus\n",
    "    df3['cpu_cores'] = df3['cpu_cores'].dropna().apply(str).apply(eval)\n",
    "    df3['cpu_cores'].fillna(df3['cpu_cores'].median(), inplace=True)\n",
    "    scaler = MinMaxScaler()\n",
    "    df3['cpu_cores'] = scaler.fit_transform(df3['cpu_cores'].values.reshape(-1,1))\n",
    "    \n",
    "    # expandable storage\n",
    "    df3['expandable_storage'].fillna(0, inplace=True)\n",
    "    \n",
    "    # remove uncommon device types\n",
    "    df3['gsma_device_type'].replace('WLAN Router', 'Other', inplace=True)\n",
    "    df3['gsma_device_type'].replace('Tablet', 'Other', inplace=True)\n",
    "    df3['gsma_device_type'].replace('Modem', 'Other', inplace=True)\n",
    "    df3 = pd.concat([df3, pd.get_dummies(df3['gsma_device_type'], prefix='device_type')], axis=1)\n",
    "    df3.drop(['gsma_device_type', 'device_type_Other'], axis=1, inplace=True)\n",
    "    \n",
    "    df3.drop(['gsma_model_name'], axis=1, inplace=True)\n",
    "    \n",
    "    # operating system\n",
    "    df3['gsma_operating_system'].loc[\n",
    "        (df3['gsma_operating_system'] != 'Android') &\n",
    "        (df3['gsma_operating_system'] != 'iOS') &\n",
    "        (df3['gsma_operating_system'] != 'Linux')\n",
    "    ] = 'Other'\n",
    "    df3 = pd.concat([df3, pd.get_dummies(df3['gsma_operating_system'], prefix='os')], axis=1)\n",
    "    df3.drop(\n",
    "        ['gsma_operating_system', 'os_family', 'os_name', 'os_vendor', 'os_version', \n",
    "         'manufacturer', 'os_Other'], axis=1, inplace=True)\n",
    "    \n",
    "    # internal stroage capacity, use medians\n",
    "    df3['internal_storage_capacity'] = df3['internal_storage_capacity'].apply(split_external_storage_capacity)\n",
    "    df3['internal_storage_capacity'].fillna(df3['internal_storage_capacity'].median(), inplace=True)\n",
    "    df3['internal_storage_capacity'] = np.log2(df3['internal_storage_capacity'])\n",
    "    scaler = StandardScaler()\n",
    "    df3['internal_storage_capacity'] = scaler.fit_transform(df3['internal_storage_capacity'].values.reshape(-1,1))\n",
    "    \n",
    "    df3['lte'].fillna(0, inplace=True)\n",
    "    df3['lte_advanced'].fillna(0, inplace=True)\n",
    "    \n",
    "    df3['lte_category'].fillna(df3['lte_category'].dropna().mode()[0], inplace=True)\n",
    "    df3['lte_downlink'] = df3['lte_category'].map(lte_downlink)\n",
    "    df3['lte_uplink'] = df3['lte_category'].map(lte_uplink)\n",
    "    scaler = RobustScaler()\n",
    "    df3['lte_downlink'] = scaler.fit_transform(df3['lte_downlink'].values.reshape(-1,1))\n",
    "    df3['lte_uplink'] = scaler.fit_transform(df3['lte_uplink'].values.reshape(-1,1))\n",
    "    df3['lte_downlink'] /= 100\n",
    "    df3['lte_uplink'] /= 100\n",
    "    df3.drop(['lte_category'], axis=1, inplace=True)\n",
    "    \n",
    "    df3.drop(['sim_size'], axis=1, inplace=True)\n",
    "    \n",
    "    df3['total_ram'] = df3['total_ram'].apply(split_external_storage_capacity)\n",
    "    df3['total_ram'].fillna(df3['total_ram'].median(), inplace=True)\n",
    "    df3['total_ram'] = np.log2(df3['total_ram'])\n",
    "    scaler = MinMaxScaler()\n",
    "    df3['total_ram'] = scaler.fit_transform(df3['total_ram'].values.reshape(-1,1))\n",
    "    df3['touch_screen'].fillna(0, inplace=True)\n",
    "    df3['wi_fi'].fillna(0, inplace=True)\n",
    "        \n",
    "    # years since release\n",
    "    df3 = pd.merge(df3, upgrades[['line_id', 'date_observed']].copy(), on='line_id')\n",
    "    df3['date_observed'] = pd.to_datetime(df3['date_observed'], format=\"%Y-%m-%d\").dt.year\n",
    "    \n",
    "    df3['years_since_release'] = df3['date_observed'] - df3['year_released']\n",
    "    df3['years_since_release'].fillna(df3['years_since_release'].dropna().median(), inplace=True)\n",
    "    df3['years_since_release'] = minmax_scale(df3['years_since_release'])\n",
    "    \n",
    "    df3.drop(['date_observed', 'year_released'], axis=1, inplace=True)\n",
    "    \n",
    "    cache(df3, filepath)\n",
    "    \n",
    "    return df3"
   ]
  },
  {
   "cell_type": "code",
   "execution_count": 27,
   "metadata": {},
   "outputs": [
    {
     "name": "stdout",
     "output_type": "stream",
     "text": [
      "55868\n"
     ]
    },
    {
     "data": {
      "text/html": [
       "<div>\n",
       "<style scoped>\n",
       "    .dataframe tbody tr th:only-of-type {\n",
       "        vertical-align: middle;\n",
       "    }\n",
       "\n",
       "    .dataframe tbody tr th {\n",
       "        vertical-align: top;\n",
       "    }\n",
       "\n",
       "    .dataframe thead th {\n",
       "        text-align: right;\n",
       "    }\n",
       "</style>\n",
       "<table border=\"1\" class=\"dataframe\">\n",
       "  <thead>\n",
       "    <tr style=\"text-align: right;\">\n",
       "      <th></th>\n",
       "      <th>line_id</th>\n",
       "      <th>cpu_cores</th>\n",
       "      <th>expandable_storage</th>\n",
       "      <th>internal_storage_capacity</th>\n",
       "      <th>lte</th>\n",
       "      <th>lte_advanced</th>\n",
       "      <th>total_ram</th>\n",
       "      <th>touch_screen</th>\n",
       "      <th>wi_fi</th>\n",
       "      <th>has_phone</th>\n",
       "      <th>device_type_Handheld</th>\n",
       "      <th>device_type_Mobile Phone/Feature phone</th>\n",
       "      <th>device_type_Smartphone</th>\n",
       "      <th>os_Android</th>\n",
       "      <th>os_Linux</th>\n",
       "      <th>os_iOS</th>\n",
       "      <th>lte_downlink</th>\n",
       "      <th>lte_uplink</th>\n",
       "      <th>years_since_release</th>\n",
       "    </tr>\n",
       "  </thead>\n",
       "  <tbody>\n",
       "    <tr>\n",
       "      <th>0</th>\n",
       "      <td>8803884c-38df-4243-a522-891c2117790c</td>\n",
       "      <td>0.428571</td>\n",
       "      <td>0.0</td>\n",
       "      <td>1.013039</td>\n",
       "      <td>1.0</td>\n",
       "      <td>1.0</td>\n",
       "      <td>0.776869</td>\n",
       "      <td>1.0</td>\n",
       "      <td>1.0</td>\n",
       "      <td>1</td>\n",
       "      <td>0</td>\n",
       "      <td>0</td>\n",
       "      <td>1</td>\n",
       "      <td>0</td>\n",
       "      <td>0</td>\n",
       "      <td>1</td>\n",
       "      <td>0.0</td>\n",
       "      <td>0.00</td>\n",
       "      <td>0.333333</td>\n",
       "    </tr>\n",
       "    <tr>\n",
       "      <th>1</th>\n",
       "      <td>75b2d7a7-c4f8-4cf2-af32-ab25b5dffacc</td>\n",
       "      <td>1.000000</td>\n",
       "      <td>1.0</td>\n",
       "      <td>1.943379</td>\n",
       "      <td>1.0</td>\n",
       "      <td>1.0</td>\n",
       "      <td>0.949507</td>\n",
       "      <td>1.0</td>\n",
       "      <td>1.0</td>\n",
       "      <td>1</td>\n",
       "      <td>0</td>\n",
       "      <td>0</td>\n",
       "      <td>1</td>\n",
       "      <td>1</td>\n",
       "      <td>0</td>\n",
       "      <td>0</td>\n",
       "      <td>15.5</td>\n",
       "      <td>2.65</td>\n",
       "      <td>0.000000</td>\n",
       "    </tr>\n",
       "  </tbody>\n",
       "</table>\n",
       "</div>"
      ],
      "text/plain": [
       "                                line_id  cpu_cores  expandable_storage  \\\n",
       "0  8803884c-38df-4243-a522-891c2117790c   0.428571                 0.0   \n",
       "1  75b2d7a7-c4f8-4cf2-af32-ab25b5dffacc   1.000000                 1.0   \n",
       "\n",
       "   internal_storage_capacity  lte  lte_advanced  total_ram  touch_screen  \\\n",
       "0                   1.013039  1.0           1.0   0.776869           1.0   \n",
       "1                   1.943379  1.0           1.0   0.949507           1.0   \n",
       "\n",
       "   wi_fi  has_phone  device_type_Handheld  \\\n",
       "0    1.0          1                     0   \n",
       "1    1.0          1                     0   \n",
       "\n",
       "   device_type_Mobile Phone/Feature phone  device_type_Smartphone  os_Android  \\\n",
       "0                                       0                       1           0   \n",
       "1                                       0                       1           1   \n",
       "\n",
       "   os_Linux  os_iOS  lte_downlink  lte_uplink  years_since_release  \n",
       "0         0       1           0.0        0.00             0.333333  \n",
       "1         0       0          15.5        2.65             0.000000  "
      ]
     },
     "execution_count": 27,
     "metadata": {},
     "output_type": "execute_result"
    }
   ],
   "source": [
    "df3 = extract3(phone_info, upgrades, overwrite=True)\n",
    "print(len(df3))\n",
    "df3.head(2)"
   ]
  },
  {
   "cell_type": "markdown",
   "metadata": {},
   "source": [
    "## 4. Redemptions"
   ]
  },
  {
   "cell_type": "markdown",
   "metadata": {},
   "source": [
    "- `num_redemptions`\n",
    "    - We can count how many times people have redeemed to see how dedicated they are to the plan\n",
    "- `num_one_offs`\n",
    "    - Number of one off calls they've made. \n",
    "    - Indicates how much money they have.\n",
    "    - log, standard\n",
    "- `total_spent`\n",
    "    - Sum of gross revenues\n",
    "    - log, standard\n",
    "- `average_monthly_spend`\n",
    "    - total_spent divided by number of months redeemed\n",
    "- `monthly_plan_cost`\n",
    "    - get the median of all expenditures above 15. 0 if none. \n",
    "    - This is most likely the montly fee they must pay. \n",
    "    - log, min_max\n",
    "- notes:\n",
    "    - For those that redeem 100s of times, check to see the dates they redeem at.\n",
    "        - looking at the biggest spenders, they pay a monthly fee of above 15\n",
    "        - then, they have periods where they constantly pay 5-10 at a time like 10 times in a month.\n",
    "        - We can grab the median above 15 and use that as the monthly subscription cost."
   ]
  },
  {
   "cell_type": "code",
   "execution_count": 28,
   "metadata": {},
   "outputs": [
    {
     "name": "stdout",
     "output_type": "stream",
     "text": [
      "number of redemptions: 641493\n"
     ]
    },
    {
     "data": {
      "text/html": [
       "<div>\n",
       "<style scoped>\n",
       "    .dataframe tbody tr th:only-of-type {\n",
       "        vertical-align: middle;\n",
       "    }\n",
       "\n",
       "    .dataframe tbody tr th {\n",
       "        vertical-align: top;\n",
       "    }\n",
       "\n",
       "    .dataframe thead th {\n",
       "        text-align: right;\n",
       "    }\n",
       "</style>\n",
       "<table border=\"1\" class=\"dataframe\">\n",
       "  <thead>\n",
       "    <tr style=\"text-align: right;\">\n",
       "      <th></th>\n",
       "      <th>line_id</th>\n",
       "      <th>channel</th>\n",
       "      <th>gross_revenue</th>\n",
       "      <th>redemption_date</th>\n",
       "      <th>redemption_type</th>\n",
       "      <th>revenue_type</th>\n",
       "    </tr>\n",
       "  </thead>\n",
       "  <tbody>\n",
       "    <tr>\n",
       "      <th>0</th>\n",
       "      <td>003a475f-a35c-4d9d-b72d-178dede369e3</td>\n",
       "      <td>APP</td>\n",
       "      <td>35.0</td>\n",
       "      <td>2020-08-31</td>\n",
       "      <td>MPPAID</td>\n",
       "      <td>MPPAID</td>\n",
       "    </tr>\n",
       "    <tr>\n",
       "      <th>1</th>\n",
       "      <td>a753a5d8-3260-41bc-aba0-84dde1c7c4c0</td>\n",
       "      <td>WEB</td>\n",
       "      <td>50.0</td>\n",
       "      <td>2021-01-28</td>\n",
       "      <td>MPPAID</td>\n",
       "      <td>MPPAID</td>\n",
       "    </tr>\n",
       "    <tr>\n",
       "      <th>2</th>\n",
       "      <td>45436c39-7de2-4270-ac15-2ffd4466a5a1</td>\n",
       "      <td>WEB</td>\n",
       "      <td>35.0</td>\n",
       "      <td>2021-02-05</td>\n",
       "      <td>MPPAID</td>\n",
       "      <td>MPPAID</td>\n",
       "    </tr>\n",
       "    <tr>\n",
       "      <th>3</th>\n",
       "      <td>4ace8faa-6433-4715-8a15-9bd6abf074f2</td>\n",
       "      <td>IVR</td>\n",
       "      <td>15.0</td>\n",
       "      <td>2018-10-16</td>\n",
       "      <td>MPPAID</td>\n",
       "      <td>MPPAID</td>\n",
       "    </tr>\n",
       "    <tr>\n",
       "      <th>4</th>\n",
       "      <td>04918ddd-77b3-4e43-aa60-4796795e0292</td>\n",
       "      <td>IVR</td>\n",
       "      <td>44.0</td>\n",
       "      <td>2019-05-04</td>\n",
       "      <td>MPPAID</td>\n",
       "      <td>MPPAID</td>\n",
       "    </tr>\n",
       "  </tbody>\n",
       "</table>\n",
       "</div>"
      ],
      "text/plain": [
       "                                line_id channel  gross_revenue  \\\n",
       "0  003a475f-a35c-4d9d-b72d-178dede369e3     APP           35.0   \n",
       "1  a753a5d8-3260-41bc-aba0-84dde1c7c4c0     WEB           50.0   \n",
       "2  45436c39-7de2-4270-ac15-2ffd4466a5a1     WEB           35.0   \n",
       "3  4ace8faa-6433-4715-8a15-9bd6abf074f2     IVR           15.0   \n",
       "4  04918ddd-77b3-4e43-aa60-4796795e0292     IVR           44.0   \n",
       "\n",
       "  redemption_date redemption_type revenue_type  \n",
       "0      2020-08-31          MPPAID       MPPAID  \n",
       "1      2021-01-28          MPPAID       MPPAID  \n",
       "2      2021-02-05          MPPAID       MPPAID  \n",
       "3      2018-10-16          MPPAID       MPPAID  \n",
       "4      2019-05-04          MPPAID       MPPAID  "
      ]
     },
     "execution_count": 28,
     "metadata": {},
     "output_type": "execute_result"
    }
   ],
   "source": [
    "redemptions=pd.read_csv(data_folder+\"data/dev/redemptions.csv\")\n",
    "print(f\"number of redemptions: {len(redemptions)}\")\n",
    "redemptions.head(5)"
   ]
  },
  {
   "cell_type": "code",
   "execution_count": 29,
   "metadata": {},
   "outputs": [
    {
     "data": {
      "text/plain": [
       "MPPAID     637145\n",
       "REPL         2157\n",
       "FREE         1408\n",
       "PAID          695\n",
       "BP PAID        75\n",
       "LL BILL        13\n",
       "Name: revenue_type, dtype: int64"
      ]
     },
     "execution_count": 29,
     "metadata": {},
     "output_type": "execute_result"
    }
   ],
   "source": [
    "redemptions.revenue_type.value_counts(dropna=False)"
   ]
  },
  {
   "cell_type": "code",
   "execution_count": 30,
   "metadata": {},
   "outputs": [
    {
     "data": {
      "text/plain": [
       "MPPAID                        637145\n",
       "Replacement                     2157\n",
       "FREE                            1325\n",
       "PAID                             695\n",
       "BP PAID                           75\n",
       "CORP FREE SALES                   34\n",
       "CORP FREE - LOGISTICS             16\n",
       "LL BILL                           13\n",
       "CORP FREE MERCHANDISING           11\n",
       "CORP FREE APP                      9\n",
       "CORP FREE - IT DEVELOPMENT         8\n",
       "Customer Service                   5\n",
       "Name: redemption_type, dtype: int64"
      ]
     },
     "execution_count": 30,
     "metadata": {},
     "output_type": "execute_result"
    }
   ],
   "source": [
    "redemptions.redemption_type.value_counts(dropna=False)"
   ]
  },
  {
   "cell_type": "code",
   "execution_count": 31,
   "metadata": {},
   "outputs": [
    {
     "name": "stdout",
     "output_type": "stream",
     "text": [
      "num redemptions: 54885\n",
      "line_id\n",
      "d929c4ef-35b8-4562-97e8-f94eb01150fb    133\n",
      "f88fbc04-23da-4c67-911d-8c88eb1d2991    118\n",
      "1e1f91ba-c665-4c96-acec-1104f586f7f8    108\n",
      "3859e4af-bf13-4731-8f8f-a3f877257428    104\n",
      "2f48dde2-a816-42f6-8f67-ab4c689c8b0a    103\n",
      "                                       ... \n",
      "81eb967e-5f8d-4bee-bd99-dbed3908d244      1\n",
      "2f0f5850-7818-4721-a66b-f35921d003c7      1\n",
      "abd70f1e-25d1-4ecd-b1e6-420f4ca9d56b      1\n",
      "2f0a9d50-89ca-44c1-b7c8-fd3bda90213b      1\n",
      "a3185885-d4ca-4736-b509-61f05ab30c43      1\n",
      "Length: 54885, dtype: int64\n"
     ]
    },
    {
     "data": {
      "image/png": "[encoded data removed]",
      "text/plain": [
       "<Figure size 1440x360 with 1 Axes>"
      ]
     },
     "metadata": {
      "needs_background": "light"
     },
     "output_type": "display_data"
    }
   ],
   "source": [
    "reds = redemptions.dropna().groupby(['line_id']).size().sort_values(ascending=False)\n",
    "plt.figure(figsize=(20,5))\n",
    "plt.bar(range(len(reds[::100])), reds[::100])\n",
    "print(\"num redemptions:\", len(reds))\n",
    "print(reds)"
   ]
  },
  {
   "cell_type": "code",
   "execution_count": 32,
   "metadata": {},
   "outputs": [
    {
     "data": {
      "image/png": "[encoded data removed]",
      "text/plain": [
       "<Figure size 1440x720 with 1 Axes>"
      ]
     },
     "metadata": {
      "needs_background": "light"
     },
     "output_type": "display_data"
    }
   ],
   "source": [
    "redemption_count = redemptions.dropna().groupby(['line_id']).size().to_frame('redemption_count')\n",
    "plt.figure(figsize=(20,10))\n",
    "plt.title('Frequency of number of redemptions per customer')\n",
    "plt.grid()\n",
    "plt.hist(redemption_count, bins=50, color=sns.color_palette('pastel')[0])\n",
    "plt.xlabel('Number of Redemptions')\n",
    "plt.ylabel('Frequency');"
   ]
  },
  {
   "cell_type": "code",
   "execution_count": 33,
   "metadata": {},
   "outputs": [
    {
     "data": {
      "image/png": "[encoded data removed]",
      "text/plain": [
       "<Figure size 1440x720 with 1 Axes>"
      ]
     },
     "metadata": {
      "needs_background": "light"
     },
     "output_type": "display_data"
    }
   ],
   "source": [
    "max_gross_revenue = redemptions.dropna().groupby(['line_id'])['gross_revenue'].max()\n",
    "plt.figure(figsize=(20,10))\n",
    "plt.title('Maximum spent')\n",
    "plt.hist(max_gross_revenue, bins=30, color=sns.color_palette('pastel')[0]);"
   ]
  },
  {
   "cell_type": "code",
   "execution_count": 34,
   "metadata": {},
   "outputs": [
    {
     "data": {
      "text/plain": [
       "<matplotlib.collections.PathCollection at 0x7fd98de94490>"
      ]
     },
     "execution_count": 34,
     "metadata": {},
     "output_type": "execute_result"
    },
    {
     "data": {
      "image/png": "[encoded data removed]",
      "text/plain": [
       "<Figure size 432x288 with 1 Axes>"
      ]
     },
     "metadata": {
      "needs_background": "light"
     },
     "output_type": "display_data"
    }
   ],
   "source": [
    "tempdf = pd.merge(redemption_count, max_gross_revenue, on='line_id')\n",
    "plt.scatter(tempdf['redemption_count'], tempdf['gross_revenue'], s=1)"
   ]
  },
  {
   "cell_type": "code",
   "execution_count": 35,
   "metadata": {},
   "outputs": [],
   "source": [
    "def remove_outliers(data, upper_quantile=.95, lower_quantile=.05):\n",
    "    upper_lim = data.quantile(upper_quantile)\n",
    "    lower_lim = data.quantile(lower_quantile)\n",
    "    \n",
    "    no_outliers = data[(data < upper_lim) & (data > lower_lim)]\n",
    "    return no_outliers"
   ]
  },
  {
   "cell_type": "code",
   "execution_count": 36,
   "metadata": {
    "scrolled": true
   },
   "outputs": [
    {
     "name": "stdout",
     "output_type": "stream",
     "text": [
      "num redemptions above 100: 3258\n",
      "num redemptions total: 641493\n"
     ]
    }
   ],
   "source": [
    "print(\"num redemptions above 100:\", len(redemptions[redemptions['gross_revenue'] >= 100])) ## outliers\n",
    "print(\"num redemptions total:\", len(redemptions))"
   ]
  },
  {
   "cell_type": "code",
   "execution_count": 71,
   "metadata": {},
   "outputs": [
    {
     "data": {
      "image/png": "[encoded data removed]",
      "text/plain": [
       "<Figure size 1440x360 with 1 Axes>"
      ]
     },
     "metadata": {
      "needs_background": "light"
     },
     "output_type": "display_data"
    }
   ],
   "source": [
    "import matplotlib.dates as mdates\n",
    "target_id = 'd929c4ef-35b8-4562-97e8-f94eb01150fb'\n",
    "sample_reds = redemptions[redemptions['line_id'] == target_id][['gross_revenue','redemption_date','revenue_type']].sort_values('redemption_date')\n",
    "sample_reds['redemption_date'] = pd.to_datetime(sample_reds['redemption_date'], format=\"%Y-%m-%d\")\n",
    "\n",
    "# sample_reds = sample_reds[sample_reds['revenue_type']=='FREE']\n",
    "\n",
    "plt.figure(figsize=(20,5))\n",
    "\n",
    "fmt_half_year = mdates.MonthLocator(interval=6)\n",
    "plt.gca().xaxis.set_major_locator(fmt_half_year)\n",
    "fmt_month = mdates.MonthLocator()\n",
    "plt.gca().xaxis.set_minor_locator(fmt_month)\n",
    "plt.gca().xaxis.set_major_formatter(mdates.DateFormatter('%Y-%m'))\n",
    "datemin = np.datetime64(min(sample_reds['redemption_date']), 'M')\n",
    "datemax = np.datetime64(max(sample_reds['redemption_date']), 'M') + np.timedelta64(1, 'M')\n",
    "plt.gca().set_xlim(datemin, datemax)\n",
    "plt.gca().format_xdata = mdates.DateFormatter('%Y-%m')\n",
    "plt.gca().set_xlabel('Month and Year')\n",
    "plt.gca().set_ylabel('Amount Spent on Redemption')\n",
    "\n",
    "plt.plot_date(sample_reds['redemption_date'], sample_reds['gross_revenue']);"
   ]
  },
  {
   "cell_type": "code",
   "execution_count": 38,
   "metadata": {},
   "outputs": [],
   "source": [
    "def extract4(redemptions, upgrades, filepath=None, overwrite=False):\n",
    "    if not filepath:\n",
    "        filepath = \"pickles/df4.pickle\"\n",
    "    if is_cached(filepath) and not overwrite:\n",
    "        return load_cache(filepath)\n",
    "    \n",
    "    redemptions = redemptions.copy()\n",
    "    df4 = upgrades[['line_id']].copy()\n",
    "    \n",
    "    #num redemptions\n",
    "    num_redemptions = redemptions.groupby(['line_id']).size().to_frame('num_redemptions')\n",
    "    df4 = pd.merge(df4, num_redemptions, on='line_id', how='left')\n",
    "    df4['num_redemptions'].fillna(0, inplace=True)\n",
    "    df4['num_redemptions'] = np.log(df4['num_redemptions']+1)\n",
    "    scaler = MinMaxScaler()\n",
    "    df4['num_redemptions'] = scaler.fit_transform(df4['num_redemptions'].values.reshape(-1,1))\n",
    "    \n",
    "    # num one offs\n",
    "    one_off_threshold = 15\n",
    "    num_one_offs = redemptions[redemptions['gross_revenue'] <= one_off_threshold].groupby(['line_id']).size().to_frame('num_one_offs')\n",
    "    df4 = pd.merge(df4, num_one_offs, on='line_id', how='left')\n",
    "    df4['num_one_offs'].fillna(0, inplace=True)\n",
    "    df4['num_one_offs'] = np.log(df4['num_one_offs']+1)\n",
    "    scaler = MinMaxScaler()\n",
    "    df4['num_one_offs'] = scaler.fit_transform(df4['num_one_offs'].values.reshape(-1,1))\n",
    "    \n",
    "    # total spent\n",
    "    total_spent = redemptions.groupby(['line_id'])['gross_revenue'].sum().to_frame('total_spent')\n",
    "    df4 = pd.merge(df4, total_spent, on='line_id', how='left')\n",
    "    df4['total_spent'].fillna(0, inplace=True)\n",
    "    \n",
    "    # average monthly\n",
    "    redemptions['redemption_date'] = pd.to_datetime(redemptions['redemption_date'], format=\"%Y-%m-%d\")\n",
    "    date_start = redemptions.groupby(['line_id'])['redemption_date'].min().to_frame('date_start')\n",
    "    df4 = pd.merge(df4, date_start, on='line_id', how='left')\n",
    "    date_end = redemptions.groupby(['line_id'])['redemption_date'].max().to_frame('date_end')\n",
    "    df4 = pd.merge(df4, date_end, on='line_id', how='left')\n",
    "    df4['date_start'].fillna(np.datetime64('1970'), inplace=True)\n",
    "    df4['date_end'].fillna(np.datetime64('1970'), inplace=True)\n",
    "    \n",
    "    df4['total_months'] = (df4['date_end'] - df4['date_start']).dt.days//30+1\n",
    "    df4['average_monthly_spend'] = df4['total_spent'] / df4['total_months']\n",
    "    df4.drop(['date_start', 'date_end', 'total_months'], axis=1, inplace=True)\n",
    "    \n",
    "    df4['total_spent'] = np.log(df4['total_spent']+1)\n",
    "    scaler = StandardScaler()\n",
    "    df4['total_spent'] = scaler.fit_transform(df4['total_spent'].values.reshape(-1,1))\n",
    "    \n",
    "    df4['average_monthly_spend'] = np.log(df4['average_monthly_spend']+1)\n",
    "    scaler = MinMaxScaler()\n",
    "    df4['average_monthly_spend'] = scaler.fit_transform(df4['average_monthly_spend'].values.reshape(-1,1))\n",
    "    \n",
    "    # monthly plan cost\n",
    "    monthly_plan_cost = redemptions[redemptions['gross_revenue'] > one_off_threshold].groupby(['line_id']).median()\n",
    "    monthly_plan_cost = monthly_plan_cost.rename(columns={'gross_revenue':'monthly_plan_cost'})\n",
    "        \n",
    "    df4 = pd.merge(df4, monthly_plan_cost, on='line_id', how='left')\n",
    "    df4['monthly_plan_cost'].fillna(0, inplace=True)\n",
    "    df4['monthly_plan_cost'] = np.log(df4['num_one_offs']+1)\n",
    "    scaler = MinMaxScaler()\n",
    "    df4['monthly_plan_cost'] = scaler.fit_transform(df4['num_one_offs'].values.reshape(-1,1))\n",
    "    \n",
    "    cache(df4, filepath)\n",
    "    \n",
    "    return df4"
   ]
  },
  {
   "cell_type": "code",
   "execution_count": 39,
   "metadata": {},
   "outputs": [
    {
     "name": "stdout",
     "output_type": "stream",
     "text": [
      "55868\n"
     ]
    },
    {
     "data": {
      "text/html": [
       "<div>\n",
       "<style scoped>\n",
       "    .dataframe tbody tr th:only-of-type {\n",
       "        vertical-align: middle;\n",
       "    }\n",
       "\n",
       "    .dataframe tbody tr th {\n",
       "        vertical-align: top;\n",
       "    }\n",
       "\n",
       "    .dataframe thead th {\n",
       "        text-align: right;\n",
       "    }\n",
       "</style>\n",
       "<table border=\"1\" class=\"dataframe\">\n",
       "  <thead>\n",
       "    <tr style=\"text-align: right;\">\n",
       "      <th></th>\n",
       "      <th>line_id</th>\n",
       "      <th>num_redemptions</th>\n",
       "      <th>num_one_offs</th>\n",
       "      <th>total_spent</th>\n",
       "      <th>average_monthly_spend</th>\n",
       "      <th>monthly_plan_cost</th>\n",
       "    </tr>\n",
       "  </thead>\n",
       "  <tbody>\n",
       "    <tr>\n",
       "      <th>0</th>\n",
       "      <td>f0b99d3b-32f7-4464-8fa8-87f27c9810a8</td>\n",
       "      <td>0.707605</td>\n",
       "      <td>0.0</td>\n",
       "      <td>1.236259</td>\n",
       "      <td>0.614134</td>\n",
       "      <td>0.0</td>\n",
       "    </tr>\n",
       "    <tr>\n",
       "      <th>1</th>\n",
       "      <td>a2ec0baf-1720-4b1b-bfa3-db00ac8fcb00</td>\n",
       "      <td>0.665211</td>\n",
       "      <td>0.0</td>\n",
       "      <td>1.183022</td>\n",
       "      <td>0.648965</td>\n",
       "      <td>0.0</td>\n",
       "    </tr>\n",
       "  </tbody>\n",
       "</table>\n",
       "</div>"
      ],
      "text/plain": [
       "                                line_id  num_redemptions  num_one_offs  \\\n",
       "0  f0b99d3b-32f7-4464-8fa8-87f27c9810a8         0.707605           0.0   \n",
       "1  a2ec0baf-1720-4b1b-bfa3-db00ac8fcb00         0.665211           0.0   \n",
       "\n",
       "   total_spent  average_monthly_spend  monthly_plan_cost  \n",
       "0     1.236259               0.614134                0.0  \n",
       "1     1.183022               0.648965                0.0  "
      ]
     },
     "execution_count": 39,
     "metadata": {},
     "output_type": "execute_result"
    }
   ],
   "source": [
    "df4 = extract4(redemptions, upgrades, overwrite=True)\n",
    "print(len(df4))\n",
    "df4.head(2)"
   ]
  },
  {
   "cell_type": "markdown",
   "metadata": {},
   "source": [
    "## 5. Deactivations"
   ]
  },
  {
   "cell_type": "markdown",
   "metadata": {},
   "source": [
    "- `deactivation_reason`\n",
    "    - some of the values are very important. namely\n",
    "        - \"PASTDUE\"\n",
    "        - \"UPGRADE\"\n",
    "        - \"DEVICE CHANGE INQUIRY\"\n",
    "        - \"STOLEN\"\n",
    "        - \"DEFECTIVE\"\n",
    "        - \"ACTIVE UPGRADE\"\n",
    "        - \"REFURBISHED\"\n",
    "        - \"NO NEED OF PHONE\"\n",
    "        - \"DEVICERETURN\"\n",
    "    - everything else can be just grouped into \"OTHER\"\n",
    "- `has_deactivated`\n",
    "    - 1 or 0 storing if they have deactivated or not.\n",
    "    - This can be cancelled out later by the `has_reactivated` field\n",
    "- `num_deactivations`\n",
    "    - Some people have deactivated multiple times"
   ]
  },
  {
   "cell_type": "code",
   "execution_count": 40,
   "metadata": {
    "scrolled": true
   },
   "outputs": [
    {
     "name": "stdout",
     "output_type": "stream",
     "text": [
      "number of deactivations: 256754\n"
     ]
    },
    {
     "data": {
      "text/html": [
       "<div>\n",
       "<style scoped>\n",
       "    .dataframe tbody tr th:only-of-type {\n",
       "        vertical-align: middle;\n",
       "    }\n",
       "\n",
       "    .dataframe tbody tr th {\n",
       "        vertical-align: top;\n",
       "    }\n",
       "\n",
       "    .dataframe thead th {\n",
       "        text-align: right;\n",
       "    }\n",
       "</style>\n",
       "<table border=\"1\" class=\"dataframe\">\n",
       "  <thead>\n",
       "    <tr style=\"text-align: right;\">\n",
       "      <th></th>\n",
       "      <th>line_id</th>\n",
       "      <th>deactivation_date</th>\n",
       "      <th>deactivation_reason</th>\n",
       "    </tr>\n",
       "  </thead>\n",
       "  <tbody>\n",
       "    <tr>\n",
       "      <th>0</th>\n",
       "      <td>bbc9e615-39c0-4c2f-93b1-67a1f50cacda</td>\n",
       "      <td>2020-06-11</td>\n",
       "      <td>PASTDUE</td>\n",
       "    </tr>\n",
       "    <tr>\n",
       "      <th>1</th>\n",
       "      <td>61c2a41e-f827-4c0c-a5cd-97396c5ed8b7</td>\n",
       "      <td>2019-06-02</td>\n",
       "      <td>PASTDUE</td>\n",
       "    </tr>\n",
       "    <tr>\n",
       "      <th>2</th>\n",
       "      <td>33f4c1e0-12fc-4173-8c26-cc8dfe48138e</td>\n",
       "      <td>2019-09-13</td>\n",
       "      <td>PASTDUE</td>\n",
       "    </tr>\n",
       "    <tr>\n",
       "      <th>3</th>\n",
       "      <td>512ba065-9ab6-4d27-9e4e-ec388830ddad</td>\n",
       "      <td>2019-02-24</td>\n",
       "      <td>PASTDUE</td>\n",
       "    </tr>\n",
       "    <tr>\n",
       "      <th>4</th>\n",
       "      <td>b00ddd78-640e-47f4-8553-1d1907d6abaf</td>\n",
       "      <td>2019-09-24</td>\n",
       "      <td>PASTDUE</td>\n",
       "    </tr>\n",
       "  </tbody>\n",
       "</table>\n",
       "</div>"
      ],
      "text/plain": [
       "                                line_id deactivation_date deactivation_reason\n",
       "0  bbc9e615-39c0-4c2f-93b1-67a1f50cacda        2020-06-11             PASTDUE\n",
       "1  61c2a41e-f827-4c0c-a5cd-97396c5ed8b7        2019-06-02             PASTDUE\n",
       "2  33f4c1e0-12fc-4173-8c26-cc8dfe48138e        2019-09-13             PASTDUE\n",
       "3  512ba065-9ab6-4d27-9e4e-ec388830ddad        2019-02-24             PASTDUE\n",
       "4  b00ddd78-640e-47f4-8553-1d1907d6abaf        2019-09-24             PASTDUE"
      ]
     },
     "execution_count": 40,
     "metadata": {},
     "output_type": "execute_result"
    }
   ],
   "source": [
    "deactivations=pd.read_csv(data_folder+\"data/dev/deactivations.csv\")\n",
    "print(f\"number of deactivations: {len(deactivations)}\")\n",
    "deactivations.head(5)"
   ]
  },
  {
   "cell_type": "code",
   "execution_count": 41,
   "metadata": {},
   "outputs": [
    {
     "name": "stdout",
     "output_type": "stream",
     "text": [
      "PASTDUE                  254232\n",
      "UPGRADE                     673\n",
      "CUSTOMER REQD               670\n",
      "RISK ASSESSMENT             472\n",
      "PORT OUT                    234\n",
      "DEVICE CHANGE INQUIRY        95\n",
      "STOLEN CREDIT CARD           81\n",
      "STOLEN                       73\n",
      "MINCHANGE                    61\n",
      "SENDCARRDEACT                56\n",
      "CHANGE OF ADDRESS            41\n",
      "ACTIVE UPGRADE               13\n",
      "PORTED NO A/I                13\n",
      "WN-SYSTEM ISSUED              9\n",
      "REFURBISHED                   8\n",
      "PORT CANCEL                   7\n",
      "NO NEED OF PHONE              4\n",
      "DEFECTIVE                     4\n",
      "REMOVED_FROM_GROUP            3\n",
      "LINE HOTLINED                 2\n",
      "DEVICERETURN                  1\n",
      "SIM EXCHANGE                  1\n",
      "AVFAILURE                     1\n",
      "Name: deactivation_reason, dtype: int64\n"
     ]
    }
   ],
   "source": [
    "with pd.option_context(\"display.max_rows\", 23):\n",
    "    print(deactivations['deactivation_reason'].value_counts(dropna=False))"
   ]
  },
  {
   "cell_type": "code",
   "execution_count": 42,
   "metadata": {},
   "outputs": [
    {
     "data": {
      "text/plain": [
       "line_id\n",
       "6584051d-9190-4812-ba2b-f59ba0e5f350    47\n",
       "5f24bef0-3545-408a-9651-796a4679364d    47\n",
       "ee5041a8-f6cc-42f7-96ef-399bfaafe2c8    46\n",
       "746f66a8-826c-4c9b-934f-6d3747695684    46\n",
       "1e5af487-4ce9-4919-8e45-64b40d7634b1    46\n",
       "                                        ..\n",
       "655ef649-6881-4099-b032-da44790ef83a     1\n",
       "c7a4f16d-cc8c-498e-998e-409dca00cf26     1\n",
       "655f8a45-e2d3-4265-b5a3-6abde8018409     1\n",
       "c7a9ea3c-38c9-4201-b77e-2cbabfc9e6c0     1\n",
       "4090da61-4c08-45a5-b554-a4d846065daf     1\n",
       "Length: 44757, dtype: int64"
      ]
     },
     "execution_count": 42,
     "metadata": {},
     "output_type": "execute_result"
    }
   ],
   "source": [
    "deactivations.dropna().groupby(['line_id']).size().sort_values(ascending=False)"
   ]
  },
  {
   "cell_type": "code",
   "execution_count": 43,
   "metadata": {},
   "outputs": [],
   "source": [
    "def extract5(deactivations, upgrades, filepath=None, overwrite=False):\n",
    "    if not filepath:\n",
    "        filepath = \"pickles/df5.pickle\"\n",
    "    if is_cached(filepath) and not overwrite:\n",
    "        return load_cache(filepath)\n",
    "    \n",
    "    deactivations = deactivations.copy()\n",
    "    df5 = upgrades[['line_id']].copy()\n",
    "    \n",
    "    # has deactivated\n",
    "    has_deactivated = deactivations.groupby('line_id')['deactivation_reason'].any()\n",
    "    has_deactivated = has_deactivated.rename(f'has_deactivated')\n",
    "    df5 = pd.merge(df5, has_deactivated, on='line_id', how='left')\n",
    "    df5[f'has_deactivated'].replace({np.nan:0, True:1}, inplace=True)\n",
    "    \n",
    "    # has certain deactivation reasons\n",
    "    useful_values = [\"PASTDUE\", \"UPGRADE\", \"DEVICE CHANGE INQUIRY\", \"STOLEN\", \n",
    "                    \"DEFECTIVE\", \"ACTIVE UPGRADE\", \"REFURBISHED\", \"NO NEED OF PHONE\", \"DEVICERETURN\"]\n",
    "    for useful_value in useful_values: \n",
    "        has_value = deactivations[deactivations['deactivation_reason'] == useful_value].groupby('line_id')['deactivation_reason'].any()\n",
    "        has_value = has_value.rename(f'reason_{useful_value}')\n",
    "        df5 = pd.merge(df5, has_value, on='line_id', how='left')\n",
    "        df5[f'reason_{useful_value}'].replace({np.nan:0, True:1}, inplace=True)\n",
    "\n",
    "    # num deactivations\n",
    "    num_deactivations = deactivations.groupby(['line_id']).size().to_frame('num_deactivations')\n",
    "    df5 = pd.merge(df5, num_deactivations, on='line_id', how='left')\n",
    "    df5['num_deactivations'].fillna(0, inplace=True)\n",
    "    df5['num_deactivations'] = np.log(df5['num_deactivations']+1)\n",
    "    df5['num_deactivations'] = minmax_scale(df5['num_deactivations'])\n",
    "        \n",
    "    cache(df5, filepath)\n",
    "        \n",
    "    return df5"
   ]
  },
  {
   "cell_type": "code",
   "execution_count": 44,
   "metadata": {},
   "outputs": [
    {
     "data": {
      "text/html": [
       "<div>\n",
       "<style scoped>\n",
       "    .dataframe tbody tr th:only-of-type {\n",
       "        vertical-align: middle;\n",
       "    }\n",
       "\n",
       "    .dataframe tbody tr th {\n",
       "        vertical-align: top;\n",
       "    }\n",
       "\n",
       "    .dataframe thead th {\n",
       "        text-align: right;\n",
       "    }\n",
       "</style>\n",
       "<table border=\"1\" class=\"dataframe\">\n",
       "  <thead>\n",
       "    <tr style=\"text-align: right;\">\n",
       "      <th></th>\n",
       "      <th>line_id</th>\n",
       "      <th>has_deactivated</th>\n",
       "      <th>reason_PASTDUE</th>\n",
       "      <th>reason_UPGRADE</th>\n",
       "      <th>reason_DEVICE CHANGE INQUIRY</th>\n",
       "      <th>reason_STOLEN</th>\n",
       "      <th>reason_DEFECTIVE</th>\n",
       "      <th>reason_ACTIVE UPGRADE</th>\n",
       "      <th>reason_REFURBISHED</th>\n",
       "      <th>reason_NO NEED OF PHONE</th>\n",
       "      <th>reason_DEVICERETURN</th>\n",
       "      <th>num_deactivations</th>\n",
       "    </tr>\n",
       "  </thead>\n",
       "  <tbody>\n",
       "    <tr>\n",
       "      <th>0</th>\n",
       "      <td>f0b99d3b-32f7-4464-8fa8-87f27c9810a8</td>\n",
       "      <td>0</td>\n",
       "      <td>0</td>\n",
       "      <td>0</td>\n",
       "      <td>0</td>\n",
       "      <td>0</td>\n",
       "      <td>0</td>\n",
       "      <td>0</td>\n",
       "      <td>0</td>\n",
       "      <td>0</td>\n",
       "      <td>0</td>\n",
       "      <td>0.000000</td>\n",
       "    </tr>\n",
       "    <tr>\n",
       "      <th>1</th>\n",
       "      <td>a2ec0baf-1720-4b1b-bfa3-db00ac8fcb00</td>\n",
       "      <td>1</td>\n",
       "      <td>1</td>\n",
       "      <td>0</td>\n",
       "      <td>0</td>\n",
       "      <td>0</td>\n",
       "      <td>0</td>\n",
       "      <td>0</td>\n",
       "      <td>0</td>\n",
       "      <td>0</td>\n",
       "      <td>0</td>\n",
       "      <td>0.358104</td>\n",
       "    </tr>\n",
       "    <tr>\n",
       "      <th>2</th>\n",
       "      <td>dd3a01a3-7baf-4605-9799-ce434328a20d</td>\n",
       "      <td>1</td>\n",
       "      <td>1</td>\n",
       "      <td>0</td>\n",
       "      <td>0</td>\n",
       "      <td>0</td>\n",
       "      <td>0</td>\n",
       "      <td>0</td>\n",
       "      <td>0</td>\n",
       "      <td>0</td>\n",
       "      <td>0</td>\n",
       "      <td>0.415746</td>\n",
       "    </tr>\n",
       "    <tr>\n",
       "      <th>3</th>\n",
       "      <td>5cf5917c-f407-4cc7-9d6d-dafe8ec0eccc</td>\n",
       "      <td>0</td>\n",
       "      <td>0</td>\n",
       "      <td>0</td>\n",
       "      <td>0</td>\n",
       "      <td>0</td>\n",
       "      <td>0</td>\n",
       "      <td>0</td>\n",
       "      <td>0</td>\n",
       "      <td>0</td>\n",
       "      <td>0</td>\n",
       "      <td>0.000000</td>\n",
       "    </tr>\n",
       "    <tr>\n",
       "      <th>4</th>\n",
       "      <td>6437fcbd-02c4-4c52-b5b2-f7e535ecec47</td>\n",
       "      <td>1</td>\n",
       "      <td>1</td>\n",
       "      <td>0</td>\n",
       "      <td>0</td>\n",
       "      <td>0</td>\n",
       "      <td>0</td>\n",
       "      <td>0</td>\n",
       "      <td>0</td>\n",
       "      <td>0</td>\n",
       "      <td>0</td>\n",
       "      <td>0.179052</td>\n",
       "    </tr>\n",
       "  </tbody>\n",
       "</table>\n",
       "</div>"
      ],
      "text/plain": [
       "                                line_id  has_deactivated  reason_PASTDUE  \\\n",
       "0  f0b99d3b-32f7-4464-8fa8-87f27c9810a8                0               0   \n",
       "1  a2ec0baf-1720-4b1b-bfa3-db00ac8fcb00                1               1   \n",
       "2  dd3a01a3-7baf-4605-9799-ce434328a20d                1               1   \n",
       "3  5cf5917c-f407-4cc7-9d6d-dafe8ec0eccc                0               0   \n",
       "4  6437fcbd-02c4-4c52-b5b2-f7e535ecec47                1               1   \n",
       "\n",
       "   reason_UPGRADE  reason_DEVICE CHANGE INQUIRY  reason_STOLEN  \\\n",
       "0               0                             0              0   \n",
       "1               0                             0              0   \n",
       "2               0                             0              0   \n",
       "3               0                             0              0   \n",
       "4               0                             0              0   \n",
       "\n",
       "   reason_DEFECTIVE  reason_ACTIVE UPGRADE  reason_REFURBISHED  \\\n",
       "0                 0                      0                   0   \n",
       "1                 0                      0                   0   \n",
       "2                 0                      0                   0   \n",
       "3                 0                      0                   0   \n",
       "4                 0                      0                   0   \n",
       "\n",
       "   reason_NO NEED OF PHONE  reason_DEVICERETURN  num_deactivations  \n",
       "0                        0                    0           0.000000  \n",
       "1                        0                    0           0.358104  \n",
       "2                        0                    0           0.415746  \n",
       "3                        0                    0           0.000000  \n",
       "4                        0                    0           0.179052  "
      ]
     },
     "execution_count": 44,
     "metadata": {},
     "output_type": "execute_result"
    }
   ],
   "source": [
    "df5 = extract5(deactivations, upgrades, overwrite=True)\n",
    "df5.head(5)"
   ]
  },
  {
   "cell_type": "markdown",
   "metadata": {},
   "source": [
    "## 6. Reactivations"
   ]
  },
  {
   "cell_type": "markdown",
   "metadata": {},
   "source": [
    "- `num_reactivations`\n",
    "    - some people have reactivated multiple times\n",
    "    - no clue why, but I'll store it anyway\n",
    "- `days_since_most_recent_reactivation`\n",
    "    - store the days since most recent reactivation\n",
    "- `is_active`\n",
    "    - take the last deactivations date, and check to see if it is before the last reactivation date"
   ]
  },
  {
   "cell_type": "code",
   "execution_count": 45,
   "metadata": {},
   "outputs": [
    {
     "data": {
      "text/html": [
       "<div>\n",
       "<style scoped>\n",
       "    .dataframe tbody tr th:only-of-type {\n",
       "        vertical-align: middle;\n",
       "    }\n",
       "\n",
       "    .dataframe tbody tr th {\n",
       "        vertical-align: top;\n",
       "    }\n",
       "\n",
       "    .dataframe thead th {\n",
       "        text-align: right;\n",
       "    }\n",
       "</style>\n",
       "<table border=\"1\" class=\"dataframe\">\n",
       "  <thead>\n",
       "    <tr style=\"text-align: right;\">\n",
       "      <th></th>\n",
       "      <th>line_id</th>\n",
       "      <th>reactivation_channel</th>\n",
       "      <th>reactivation_date</th>\n",
       "    </tr>\n",
       "  </thead>\n",
       "  <tbody>\n",
       "    <tr>\n",
       "      <th>0</th>\n",
       "      <td>f72d37a7-50a0-4ed0-95e6-5aaa47c8691f</td>\n",
       "      <td>WEB</td>\n",
       "      <td>2020-08-01</td>\n",
       "    </tr>\n",
       "    <tr>\n",
       "      <th>1</th>\n",
       "      <td>b71f5bed-3e65-48b2-ae3f-d8b1a427b29f</td>\n",
       "      <td>WEB</td>\n",
       "      <td>2020-01-23</td>\n",
       "    </tr>\n",
       "  </tbody>\n",
       "</table>\n",
       "</div>"
      ],
      "text/plain": [
       "                                line_id reactivation_channel reactivation_date\n",
       "0  f72d37a7-50a0-4ed0-95e6-5aaa47c8691f                  WEB        2020-08-01\n",
       "1  b71f5bed-3e65-48b2-ae3f-d8b1a427b29f                  WEB        2020-01-23"
      ]
     },
     "execution_count": 45,
     "metadata": {},
     "output_type": "execute_result"
    }
   ],
   "source": [
    "reactivations=pd.read_csv(data_folder+\"data/dev/reactivations.csv\")\n",
    "reactivations.head(2)"
   ]
  },
  {
   "cell_type": "code",
   "execution_count": 46,
   "metadata": {},
   "outputs": [
    {
     "data": {
      "text/plain": [
       "248597"
      ]
     },
     "execution_count": 46,
     "metadata": {},
     "output_type": "execute_result"
    }
   ],
   "source": [
    "len(reactivations)"
   ]
  },
  {
   "cell_type": "code",
   "execution_count": 47,
   "metadata": {
    "scrolled": true
   },
   "outputs": [
    {
     "data": {
      "text/plain": [
       "line_id\n",
       "5f24bef0-3545-408a-9651-796a4679364d    47\n",
       "6584051d-9190-4812-ba2b-f59ba0e5f350    47\n",
       "2b6c6476-cb13-43b4-9adc-7e74a5f38d04    46\n",
       "7d8076f0-d74d-42e1-8491-8515fd60f07d    46\n",
       "1e5af487-4ce9-4919-8e45-64b40d7634b1    46\n",
       "                                        ..\n",
       "9a12631c-023e-43e6-9760-ec838cb84b5f     1\n",
       "9a142a91-1825-4a48-a0df-0f1ad9ea6069     1\n",
       "394d820b-300b-45cf-b201-16a5b1875026     1\n",
       "9a18d579-2b71-44fb-88f8-1b6b926b0ae4     1\n",
       "81178de0-0d77-4617-b6dd-846b126bde35     1\n",
       "Name: reactivation_channel, Length: 40992, dtype: int64"
      ]
     },
     "execution_count": 47,
     "metadata": {},
     "output_type": "execute_result"
    }
   ],
   "source": [
    "reactivations.dropna().groupby(['line_id']).count()['reactivation_channel'].sort_values(ascending=False)"
   ]
  },
  {
   "cell_type": "code",
   "execution_count": 48,
   "metadata": {
    "scrolled": true
   },
   "outputs": [],
   "source": [
    "def extract6(reactivations, deactivations, upgrades, filepath=None, overwrite=False):\n",
    "    if not filepath:\n",
    "        filepath = \"pickles/df6.pickle\"\n",
    "    if is_cached(filepath) and not overwrite:\n",
    "        return load_cache(filepath)\n",
    "    \n",
    "    reactivations = reactivations.copy()\n",
    "    df6 = upgrades[['line_id']].copy()\n",
    "    \n",
    "    # check if active\n",
    "    df6['is_active'] = 1\n",
    "    \n",
    "    deactivations['deactivation_date'] = pd.to_datetime(deactivations['deactivation_date'], format=\"%Y-%m-%d\")\n",
    "    reactivations['reactivation_date'] = pd.to_datetime(reactivations['reactivation_date'], format=\"%Y-%m-%d\")\n",
    "    \n",
    "    last_deactivate = deactivations.groupby(['line_id'])['deactivation_date'].max().to_frame('last_deactivate')\n",
    "    last_reactivate = reactivations.groupby(['line_id'])['reactivation_date'].max().to_frame('last_reactivate')\n",
    "    \n",
    "    df6 = pd.merge(df6, last_deactivate, on='line_id', how='left')\n",
    "    df6 = pd.merge(df6, last_reactivate, on='line_id', how='left')\n",
    "    \n",
    "    has_deactivated = deactivations.groupby('line_id')['deactivation_reason'].any()\n",
    "    has_deactivated = has_deactivated.rename(f'has_deactivated')\n",
    "    df6 = pd.merge(df6, has_deactivated, on='line_id', how='left')\n",
    "    df6['has_deactivated'].replace({np.nan:0, True:1}, inplace=True)\n",
    "    df6['reactivated'] = np.where(df6['last_reactivate'] - df6['last_deactivate'] >= np.timedelta64(0, 'D'), 1, 0)\n",
    "    \n",
    "    df6['is_active'] = 1 - df6[f'has_deactivated'] + df6['reactivated']\n",
    "    \n",
    "    df6.drop(['last_deactivate', 'has_deactivated', 'reactivated'], axis=1, inplace=True)\n",
    "    \n",
    "    #num reactivations\n",
    "    num_reactivations = reactivations.groupby(['line_id']).size().to_frame('num_reactivations')\n",
    "    df6 = pd.merge(df6, num_reactivations, on='line_id', how='left')\n",
    "    df6['num_reactivations'].fillna(0, inplace=True)\n",
    "    df6['num_reactivations'] = np.log(df6['num_reactivations']+1)\n",
    "    df6['num_reactivations'] = minmax_scale(df6['num_reactivations'])\n",
    "    \n",
    "    # days since last reactivation\n",
    "    df6 = pd.merge(df6, upgrades[['line_id','date_observed']], on='line_id', how='left')\n",
    "    \n",
    "    df6['date_observed'] = convert_to_datetime(df6['date_observed'])\n",
    "    df6['days_since_reactivation'] = (df6['date_observed'] - df6['last_reactivate']).dt.days\n",
    "    df6['days_since_reactivation'] = minmax_scale(np.log(df6['days_since_reactivation']+1))\n",
    "    df6['days_since_reactivation'].fillna(0, inplace=True)\n",
    "    \n",
    "    df6.drop(['date_observed', 'last_reactivate'], axis=1, inplace=True)\n",
    "        \n",
    "    cache(df6, filepath)\n",
    "    \n",
    "    return df6"
   ]
  },
  {
   "cell_type": "code",
   "execution_count": 49,
   "metadata": {},
   "outputs": [
    {
     "name": "stdout",
     "output_type": "stream",
     "text": [
      "55868\n"
     ]
    },
    {
     "data": {
      "text/html": [
       "<div>\n",
       "<style scoped>\n",
       "    .dataframe tbody tr th:only-of-type {\n",
       "        vertical-align: middle;\n",
       "    }\n",
       "\n",
       "    .dataframe tbody tr th {\n",
       "        vertical-align: top;\n",
       "    }\n",
       "\n",
       "    .dataframe thead th {\n",
       "        text-align: right;\n",
       "    }\n",
       "</style>\n",
       "<table border=\"1\" class=\"dataframe\">\n",
       "  <thead>\n",
       "    <tr style=\"text-align: right;\">\n",
       "      <th></th>\n",
       "      <th>line_id</th>\n",
       "      <th>is_active</th>\n",
       "      <th>num_reactivations</th>\n",
       "      <th>days_since_reactivation</th>\n",
       "    </tr>\n",
       "  </thead>\n",
       "  <tbody>\n",
       "    <tr>\n",
       "      <th>0</th>\n",
       "      <td>f0b99d3b-32f7-4464-8fa8-87f27c9810a8</td>\n",
       "      <td>1</td>\n",
       "      <td>0.000000</td>\n",
       "      <td>0.000000</td>\n",
       "    </tr>\n",
       "    <tr>\n",
       "      <th>1</th>\n",
       "      <td>a2ec0baf-1720-4b1b-bfa3-db00ac8fcb00</td>\n",
       "      <td>1</td>\n",
       "      <td>0.358104</td>\n",
       "      <td>0.284924</td>\n",
       "    </tr>\n",
       "    <tr>\n",
       "      <th>2</th>\n",
       "      <td>dd3a01a3-7baf-4605-9799-ce434328a20d</td>\n",
       "      <td>1</td>\n",
       "      <td>0.415746</td>\n",
       "      <td>0.316531</td>\n",
       "    </tr>\n",
       "    <tr>\n",
       "      <th>3</th>\n",
       "      <td>5cf5917c-f407-4cc7-9d6d-dafe8ec0eccc</td>\n",
       "      <td>1</td>\n",
       "      <td>0.179052</td>\n",
       "      <td>0.473936</td>\n",
       "    </tr>\n",
       "    <tr>\n",
       "      <th>4</th>\n",
       "      <td>6437fcbd-02c4-4c52-b5b2-f7e535ecec47</td>\n",
       "      <td>1</td>\n",
       "      <td>0.179052</td>\n",
       "      <td>0.642289</td>\n",
       "    </tr>\n",
       "    <tr>\n",
       "      <th>...</th>\n",
       "      <td>...</td>\n",
       "      <td>...</td>\n",
       "      <td>...</td>\n",
       "      <td>...</td>\n",
       "    </tr>\n",
       "    <tr>\n",
       "      <th>55863</th>\n",
       "      <td>f89b108a-f453-4419-a4dc-5bf8e1cd1f1a</td>\n",
       "      <td>1</td>\n",
       "      <td>0.283791</td>\n",
       "      <td>0.553710</td>\n",
       "    </tr>\n",
       "    <tr>\n",
       "      <th>55864</th>\n",
       "      <td>b703f1d4-57ba-48b6-8adf-46d7aba6a406</td>\n",
       "      <td>1</td>\n",
       "      <td>0.502663</td>\n",
       "      <td>0.567121</td>\n",
       "    </tr>\n",
       "    <tr>\n",
       "      <th>55865</th>\n",
       "      <td>e3b2212c-906e-4a8f-8307-6b88fc64d7a0</td>\n",
       "      <td>1</td>\n",
       "      <td>0.000000</td>\n",
       "      <td>0.000000</td>\n",
       "    </tr>\n",
       "    <tr>\n",
       "      <th>55866</th>\n",
       "      <td>828df9bf-279c-47c3-96c2-92177a50b8fd</td>\n",
       "      <td>1</td>\n",
       "      <td>0.179052</td>\n",
       "      <td>0.342689</td>\n",
       "    </tr>\n",
       "    <tr>\n",
       "      <th>55867</th>\n",
       "      <td>a0a14009-da02-4989-bdce-bc66146e0324</td>\n",
       "      <td>1</td>\n",
       "      <td>0.731869</td>\n",
       "      <td>0.259495</td>\n",
       "    </tr>\n",
       "  </tbody>\n",
       "</table>\n",
       "<p>55868 rows × 4 columns</p>\n",
       "</div>"
      ],
      "text/plain": [
       "                                    line_id  is_active  num_reactivations  \\\n",
       "0      f0b99d3b-32f7-4464-8fa8-87f27c9810a8          1           0.000000   \n",
       "1      a2ec0baf-1720-4b1b-bfa3-db00ac8fcb00          1           0.358104   \n",
       "2      dd3a01a3-7baf-4605-9799-ce434328a20d          1           0.415746   \n",
       "3      5cf5917c-f407-4cc7-9d6d-dafe8ec0eccc          1           0.179052   \n",
       "4      6437fcbd-02c4-4c52-b5b2-f7e535ecec47          1           0.179052   \n",
       "...                                     ...        ...                ...   \n",
       "55863  f89b108a-f453-4419-a4dc-5bf8e1cd1f1a          1           0.283791   \n",
       "55864  b703f1d4-57ba-48b6-8adf-46d7aba6a406          1           0.502663   \n",
       "55865  e3b2212c-906e-4a8f-8307-6b88fc64d7a0          1           0.000000   \n",
       "55866  828df9bf-279c-47c3-96c2-92177a50b8fd          1           0.179052   \n",
       "55867  a0a14009-da02-4989-bdce-bc66146e0324          1           0.731869   \n",
       "\n",
       "       days_since_reactivation  \n",
       "0                     0.000000  \n",
       "1                     0.284924  \n",
       "2                     0.316531  \n",
       "3                     0.473936  \n",
       "4                     0.642289  \n",
       "...                        ...  \n",
       "55863                 0.553710  \n",
       "55864                 0.567121  \n",
       "55865                 0.000000  \n",
       "55866                 0.342689  \n",
       "55867                 0.259495  \n",
       "\n",
       "[55868 rows x 4 columns]"
      ]
     },
     "execution_count": 49,
     "metadata": {},
     "output_type": "execute_result"
    }
   ],
   "source": [
    "df6 = extract6(reactivations, deactivations, upgrades, overwrite=True)\n",
    "print(len(df6))\n",
    "df6"
   ]
  },
  {
   "cell_type": "markdown",
   "metadata": {},
   "source": [
    "## 7. Suspensions"
   ]
  },
  {
   "cell_type": "markdown",
   "metadata": {},
   "source": [
    "- `has_been_suspended`\n",
    "- `num_suspensions`\n",
    "    - some people have been suspsneed many times (up to 100!)\n",
    "- `months_since_last_suspension`\n",
    "    - store the days since most recent reactivation, logged.\n",
    "- `average_suspesnsion_length`"
   ]
  },
  {
   "cell_type": "code",
   "execution_count": 50,
   "metadata": {},
   "outputs": [
    {
     "data": {
      "text/html": [
       "<div>\n",
       "<style scoped>\n",
       "    .dataframe tbody tr th:only-of-type {\n",
       "        vertical-align: middle;\n",
       "    }\n",
       "\n",
       "    .dataframe tbody tr th {\n",
       "        vertical-align: top;\n",
       "    }\n",
       "\n",
       "    .dataframe thead th {\n",
       "        text-align: right;\n",
       "    }\n",
       "</style>\n",
       "<table border=\"1\" class=\"dataframe\">\n",
       "  <thead>\n",
       "    <tr style=\"text-align: right;\">\n",
       "      <th></th>\n",
       "      <th>line_id</th>\n",
       "      <th>suspension_start_date</th>\n",
       "      <th>suspension_end_date</th>\n",
       "    </tr>\n",
       "  </thead>\n",
       "  <tbody>\n",
       "    <tr>\n",
       "      <th>0</th>\n",
       "      <td>63a3f832-f035-4b99-8b2b-d34ebb0ebf4b</td>\n",
       "      <td>2021-03-10</td>\n",
       "      <td>2021-03-13</td>\n",
       "    </tr>\n",
       "    <tr>\n",
       "      <th>1</th>\n",
       "      <td>d9744c2d-36d4-4d46-9dc4-eea1479b0af7</td>\n",
       "      <td>2015-04-02</td>\n",
       "      <td>2015-04-09</td>\n",
       "    </tr>\n",
       "  </tbody>\n",
       "</table>\n",
       "</div>"
      ],
      "text/plain": [
       "                                line_id suspension_start_date  \\\n",
       "0  63a3f832-f035-4b99-8b2b-d34ebb0ebf4b            2021-03-10   \n",
       "1  d9744c2d-36d4-4d46-9dc4-eea1479b0af7            2015-04-02   \n",
       "\n",
       "  suspension_end_date  \n",
       "0          2021-03-13  \n",
       "1          2015-04-09  "
      ]
     },
     "execution_count": 50,
     "metadata": {},
     "output_type": "execute_result"
    }
   ],
   "source": [
    "suspensions=pd.read_csv(data_folder+\"data/dev/suspensions.csv\")\n",
    "suspensions.head(2)"
   ]
  },
  {
   "cell_type": "code",
   "execution_count": 51,
   "metadata": {},
   "outputs": [],
   "source": [
    "def extract7(suspensions, upgrades, filepath=None, overwrite=False):\n",
    "    if not filepath:\n",
    "        filepath = \"pickles/df7.pickle\"\n",
    "    if is_cached(filepath) and not overwrite:\n",
    "        return load_cache(filepath)\n",
    "    \n",
    "    suspensions = suspensions.copy()\n",
    "    df7 = upgrades[['line_id', 'date_observed']].copy()\n",
    "    \n",
    "    # num and has been suspended\n",
    "    num_suspensions = suspensions.groupby(['line_id']).size().to_frame('num_suspensions')\n",
    "    df7 = pd.merge(df7, num_suspensions, on='line_id', how='left');\n",
    "    df7['num_suspensions'].fillna(0, inplace=True)\n",
    "    df7['has_been_suspended'] = np.where(df7['num_suspensions'] > 0, 1, 0)\n",
    "    df7['num_suspensions'] = minmax_scale(np.log(df7['num_suspensions']+1))\n",
    "    \n",
    "    # months since last suspension\n",
    "\n",
    "    df7['date_observed'] = convert_to_datetime(df7['date_observed'])\n",
    "    suspensions['suspension_start_date'] = convert_to_datetime(suspensions['suspension_start_date'])\n",
    "    suspensions['suspension_end_date'] = convert_to_datetime(suspensions['suspension_end_date'])\n",
    "\n",
    "    last_suspension_date = suspensions.groupby('line_id')['suspension_end_date'].max()\n",
    "    last_suspension_date.rename('last_suspension_date')\n",
    "    df7 = pd.merge(df7, last_suspension_date, on='line_id', how='left')\n",
    "    \n",
    "    df7['months_since_suspended'] = (df7['date_observed'] - df7['suspension_end_date']).dt.days/30+1\n",
    "    df7['months_since_suspended'].fillna(0, inplace=True)\n",
    "    df7['months_since_suspended'] = minmax_scale(np.log(df7['months_since_suspended']+1))\n",
    "    \n",
    "    df7.drop(['date_observed', 'suspension_end_date'], axis=1, inplace=True)\n",
    "    \n",
    "    # average suspension length\n",
    "    suspensions['suspension_length'] = (suspensions['suspension_end_date'] - suspensions['suspension_start_date']).dt.days\n",
    "    average_suspension_length = suspensions.groupby('line_id')['suspension_length'].mean().to_frame('average_suspension_length')\n",
    "    df7 = pd.merge(df7, average_suspension_length, on='line_id', how='left')\n",
    "    df7['average_suspension_length'].fillna(0, inplace=True)\n",
    "    df7['average_suspension_length'] = minmax_scale(df7['average_suspension_length']+1)\n",
    "    \n",
    "    cache(df7, filepath)\n",
    "    return df7"
   ]
  },
  {
   "cell_type": "code",
   "execution_count": 52,
   "metadata": {},
   "outputs": [
    {
     "name": "stdout",
     "output_type": "stream",
     "text": [
      "55868\n"
     ]
    },
    {
     "data": {
      "text/html": [
       "<div>\n",
       "<style scoped>\n",
       "    .dataframe tbody tr th:only-of-type {\n",
       "        vertical-align: middle;\n",
       "    }\n",
       "\n",
       "    .dataframe tbody tr th {\n",
       "        vertical-align: top;\n",
       "    }\n",
       "\n",
       "    .dataframe thead th {\n",
       "        text-align: right;\n",
       "    }\n",
       "</style>\n",
       "<table border=\"1\" class=\"dataframe\">\n",
       "  <thead>\n",
       "    <tr style=\"text-align: right;\">\n",
       "      <th></th>\n",
       "      <th>line_id</th>\n",
       "      <th>num_suspensions</th>\n",
       "      <th>has_been_suspended</th>\n",
       "      <th>months_since_suspended</th>\n",
       "      <th>average_suspension_length</th>\n",
       "    </tr>\n",
       "  </thead>\n",
       "  <tbody>\n",
       "    <tr>\n",
       "      <th>0</th>\n",
       "      <td>f0b99d3b-32f7-4464-8fa8-87f27c9810a8</td>\n",
       "      <td>0.292702</td>\n",
       "      <td>1</td>\n",
       "      <td>0.725469</td>\n",
       "      <td>0.400000</td>\n",
       "    </tr>\n",
       "    <tr>\n",
       "      <th>1</th>\n",
       "      <td>a2ec0baf-1720-4b1b-bfa3-db00ac8fcb00</td>\n",
       "      <td>0.292702</td>\n",
       "      <td>1</td>\n",
       "      <td>0.169037</td>\n",
       "      <td>0.033333</td>\n",
       "    </tr>\n",
       "    <tr>\n",
       "      <th>2</th>\n",
       "      <td>dd3a01a3-7baf-4605-9799-ce434328a20d</td>\n",
       "      <td>0.410859</td>\n",
       "      <td>1</td>\n",
       "      <td>0.176919</td>\n",
       "      <td>0.388889</td>\n",
       "    </tr>\n",
       "    <tr>\n",
       "      <th>3</th>\n",
       "      <td>5cf5917c-f407-4cc7-9d6d-dafe8ec0eccc</td>\n",
       "      <td>0.000000</td>\n",
       "      <td>0</td>\n",
       "      <td>0.000000</td>\n",
       "      <td>0.000000</td>\n",
       "    </tr>\n",
       "    <tr>\n",
       "      <th>4</th>\n",
       "      <td>6437fcbd-02c4-4c52-b5b2-f7e535ecec47</td>\n",
       "      <td>0.598204</td>\n",
       "      <td>1</td>\n",
       "      <td>0.361410</td>\n",
       "      <td>0.037500</td>\n",
       "    </tr>\n",
       "  </tbody>\n",
       "</table>\n",
       "</div>"
      ],
      "text/plain": [
       "                                line_id  num_suspensions  has_been_suspended  \\\n",
       "0  f0b99d3b-32f7-4464-8fa8-87f27c9810a8         0.292702                   1   \n",
       "1  a2ec0baf-1720-4b1b-bfa3-db00ac8fcb00         0.292702                   1   \n",
       "2  dd3a01a3-7baf-4605-9799-ce434328a20d         0.410859                   1   \n",
       "3  5cf5917c-f407-4cc7-9d6d-dafe8ec0eccc         0.000000                   0   \n",
       "4  6437fcbd-02c4-4c52-b5b2-f7e535ecec47         0.598204                   1   \n",
       "\n",
       "   months_since_suspended  average_suspension_length  \n",
       "0                0.725469                   0.400000  \n",
       "1                0.169037                   0.033333  \n",
       "2                0.176919                   0.388889  \n",
       "3                0.000000                   0.000000  \n",
       "4                0.361410                   0.037500  "
      ]
     },
     "execution_count": 52,
     "metadata": {},
     "output_type": "execute_result"
    }
   ],
   "source": [
    "df7 = extract7(suspensions, upgrades, overwrite=True)\n",
    "print(len(df7))\n",
    "df7.head(5)"
   ]
  },
  {
   "cell_type": "code",
   "execution_count": 53,
   "metadata": {},
   "outputs": [
    {
     "data": {
      "text/plain": [
       "535849"
      ]
     },
     "execution_count": 53,
     "metadata": {},
     "output_type": "execute_result"
    }
   ],
   "source": [
    "len(suspensions)"
   ]
  },
  {
   "cell_type": "code",
   "execution_count": 54,
   "metadata": {},
   "outputs": [
    {
     "data": {
      "text/plain": [
       "line_id\n",
       "1e0891c7-fa49-472b-a5c8-31b7e2ef52cc    113\n",
       "68a2d2e7-abeb-41f2-964b-0236e8445735    109\n",
       "bc7eaabf-07b5-433d-b0d3-69fcd33b2c78    108\n",
       "72fec4c2-4691-4f4b-a9cd-0147f654a386    107\n",
       "20d48f75-1353-434a-9376-126f0523ae43    107\n",
       "                                       ... \n",
       "ce1dab94-eeb1-4544-8991-688010eff7fc      1\n",
       "ce1b3665-736b-4c9f-bacb-cb1848a9d9c8      1\n",
       "571f77cd-7654-494a-a085-63b1e8cd1a8f      1\n",
       "1f93328e-f892-4a05-a369-3572ae94ac02      1\n",
       "c6386c5c-f905-4bbe-b997-738a54a1ee62      1\n",
       "Name: suspension_start_date, Length: 48539, dtype: int64"
      ]
     },
     "execution_count": 54,
     "metadata": {},
     "output_type": "execute_result"
    }
   ],
   "source": [
    "suspensions.dropna().groupby(['line_id']).count()['suspension_start_date'].sort_values(ascending=False)"
   ]
  },
  {
   "cell_type": "markdown",
   "metadata": {},
   "source": [
    "## 8. Network Usage"
   ]
  },
  {
   "cell_type": "markdown",
   "metadata": {},
   "source": [
    "- `sms_out_count`, `sms_in_count`\n",
    "    - number of times they have sms out in total\n",
    "    - sum together sms and mms as well.\n",
    "    - log the voice and sms count.\n",
    "- `hotspot_kb`, `kb_5g`, `total_kb`\n",
    "    - sum up all usage for each person\n",
    "    - conver kb to mb or even gb to remove noise\n",
    "- `voice_count_in`\n",
    "- `voice_count_out`\n",
    "- `voice_count_total`\n",
    "- `total_voice_min`\n",
    "- `average_call_length`\n",
    "    - minutes spoken divided by number of calls\n",
    "- `num_network_usages`\n",
    "- notes:\n",
    "    - take into the account the date as well. \n",
    "        - should only care about usage in the past 3 months\n",
    "    - average usage per day, or average usage per week are good statistics."
   ]
  },
  {
   "cell_type": "code",
   "execution_count": 55,
   "metadata": {},
   "outputs": [
    {
     "data": {
      "text/html": [
       "<div>\n",
       "<style scoped>\n",
       "    .dataframe tbody tr th:only-of-type {\n",
       "        vertical-align: middle;\n",
       "    }\n",
       "\n",
       "    .dataframe tbody tr th {\n",
       "        vertical-align: top;\n",
       "    }\n",
       "\n",
       "    .dataframe thead th {\n",
       "        text-align: right;\n",
       "    }\n",
       "</style>\n",
       "<table border=\"1\" class=\"dataframe\">\n",
       "  <thead>\n",
       "    <tr style=\"text-align: right;\">\n",
       "      <th></th>\n",
       "      <th>line_id</th>\n",
       "      <th>date</th>\n",
       "      <th>hotspot_kb</th>\n",
       "      <th>kb_5g</th>\n",
       "      <th>mms_in</th>\n",
       "      <th>mms_out</th>\n",
       "      <th>sms_in</th>\n",
       "      <th>sms_out</th>\n",
       "      <th>total_kb</th>\n",
       "      <th>voice_count_in</th>\n",
       "      <th>voice_count_total</th>\n",
       "      <th>voice_min_in</th>\n",
       "      <th>voice_min_out</th>\n",
       "    </tr>\n",
       "  </thead>\n",
       "  <tbody>\n",
       "    <tr>\n",
       "      <th>0</th>\n",
       "      <td>24daa57d-c261-444c-afd4-c107a53d638e</td>\n",
       "      <td>2021-02-04</td>\n",
       "      <td>0.000000</td>\n",
       "      <td>0.0</td>\n",
       "      <td>0</td>\n",
       "      <td>0</td>\n",
       "      <td>10</td>\n",
       "      <td>7</td>\n",
       "      <td>7.533189e+05</td>\n",
       "      <td>5</td>\n",
       "      <td>8</td>\n",
       "      <td>7</td>\n",
       "      <td>4</td>\n",
       "    </tr>\n",
       "    <tr>\n",
       "      <th>1</th>\n",
       "      <td>8ba9b32c-3df3-4145-81ac-f334763a6f43</td>\n",
       "      <td>2021-02-13</td>\n",
       "      <td>166455.194336</td>\n",
       "      <td>0.0</td>\n",
       "      <td>0</td>\n",
       "      <td>0</td>\n",
       "      <td>6</td>\n",
       "      <td>9</td>\n",
       "      <td>2.750695e+06</td>\n",
       "      <td>0</td>\n",
       "      <td>2</td>\n",
       "      <td>0</td>\n",
       "      <td>3</td>\n",
       "    </tr>\n",
       "    <tr>\n",
       "      <th>2</th>\n",
       "      <td>58dc79d3-7d8b-46c1-802d-b4330fb61dd2</td>\n",
       "      <td>2020-12-29</td>\n",
       "      <td>0.000000</td>\n",
       "      <td>0.0</td>\n",
       "      <td>2</td>\n",
       "      <td>0</td>\n",
       "      <td>2</td>\n",
       "      <td>1</td>\n",
       "      <td>7.129997e+04</td>\n",
       "      <td>17</td>\n",
       "      <td>53</td>\n",
       "      <td>37</td>\n",
       "      <td>72</td>\n",
       "    </tr>\n",
       "    <tr>\n",
       "      <th>3</th>\n",
       "      <td>3d9f79f6-5d82-47bb-9761-bb8534eba8d0</td>\n",
       "      <td>2020-11-10</td>\n",
       "      <td>0.000000</td>\n",
       "      <td>0.0</td>\n",
       "      <td>0</td>\n",
       "      <td>0</td>\n",
       "      <td>1</td>\n",
       "      <td>0</td>\n",
       "      <td>6.085255e+04</td>\n",
       "      <td>3</td>\n",
       "      <td>6</td>\n",
       "      <td>18</td>\n",
       "      <td>7</td>\n",
       "    </tr>\n",
       "    <tr>\n",
       "      <th>4</th>\n",
       "      <td>226a8068-f277-4849-9236-b8a46abe14d9</td>\n",
       "      <td>2021-01-07</td>\n",
       "      <td>0.000000</td>\n",
       "      <td>0.0</td>\n",
       "      <td>0</td>\n",
       "      <td>0</td>\n",
       "      <td>3</td>\n",
       "      <td>1</td>\n",
       "      <td>5.648610e+05</td>\n",
       "      <td>3</td>\n",
       "      <td>14</td>\n",
       "      <td>35</td>\n",
       "      <td>38</td>\n",
       "    </tr>\n",
       "  </tbody>\n",
       "</table>\n",
       "</div>"
      ],
      "text/plain": [
       "                                line_id        date     hotspot_kb  kb_5g  \\\n",
       "0  24daa57d-c261-444c-afd4-c107a53d638e  2021-02-04       0.000000    0.0   \n",
       "1  8ba9b32c-3df3-4145-81ac-f334763a6f43  2021-02-13  166455.194336    0.0   \n",
       "2  58dc79d3-7d8b-46c1-802d-b4330fb61dd2  2020-12-29       0.000000    0.0   \n",
       "3  3d9f79f6-5d82-47bb-9761-bb8534eba8d0  2020-11-10       0.000000    0.0   \n",
       "4  226a8068-f277-4849-9236-b8a46abe14d9  2021-01-07       0.000000    0.0   \n",
       "\n",
       "   mms_in  mms_out  sms_in  sms_out      total_kb  voice_count_in  \\\n",
       "0       0        0      10        7  7.533189e+05               5   \n",
       "1       0        0       6        9  2.750695e+06               0   \n",
       "2       2        0       2        1  7.129997e+04              17   \n",
       "3       0        0       1        0  6.085255e+04               3   \n",
       "4       0        0       3        1  5.648610e+05               3   \n",
       "\n",
       "   voice_count_total  voice_min_in  voice_min_out  \n",
       "0                  8             7              4  \n",
       "1                  2             0              3  \n",
       "2                 53            37             72  \n",
       "3                  6            18              7  \n",
       "4                 14            35             38  "
      ]
     },
     "execution_count": 55,
     "metadata": {},
     "output_type": "execute_result"
    }
   ],
   "source": [
    "network_usage_domestic=pd.read_csv(data_folder+\"data/dev/network_usage_domestic.csv\")\n",
    "network_usage_domestic.head()"
   ]
  },
  {
   "cell_type": "code",
   "execution_count": 56,
   "metadata": {},
   "outputs": [
    {
     "data": {
      "text/plain": [
       "6381966"
      ]
     },
     "execution_count": 56,
     "metadata": {},
     "output_type": "execute_result"
    }
   ],
   "source": [
    "len(network_usage_domestic)"
   ]
  },
  {
   "cell_type": "code",
   "execution_count": 57,
   "metadata": {},
   "outputs": [],
   "source": [
    "def extract8(network_usage, upgrades, filepath=None, overwrite=False):\n",
    "    if not filepath:\n",
    "        filepath = \"pickles/df8.pickle\"\n",
    "    if is_cached(filepath) and not overwrite:\n",
    "        return load_cache(filepath)\n",
    "    \n",
    "    network_usage = network_usage.copy()\n",
    "    df8 = upgrades[['line_id']].copy()\n",
    "    \n",
    "    # sms/mms in and out\n",
    "    print(\"  sms and mms...\")\n",
    "    sms_in_total = (network_usage.groupby('line_id')['mms_in'].sum() +\n",
    "         network_usage.groupby('line_id')['sms_in'].sum()).to_frame('sms_in_total')\n",
    "    df8 = pd.merge(df8, sms_in_total, on='line_id', how='left')\n",
    "    df8['sms_in_total'].fillna(0, inplace=True)    \n",
    "    \n",
    "    sms_out_total = (network_usage.groupby('line_id')['mms_out'].sum() +\n",
    "         network_usage.groupby('line_id')['sms_out'].sum()).to_frame('sms_out_total')\n",
    "    df8 = pd.merge(df8, sms_out_total, on='line_id', how='left')\n",
    "    df8['sms_out_total'].fillna(0, inplace=True)  \n",
    "    \n",
    "    df8['sms_diff'] = df8['sms_in_total'] - df8['sms_out_total']\n",
    "    df8['sms_total'] = df8['sms_in_total'] + df8['sms_out_total']\n",
    "    \n",
    "    df8['over_15_sms'] = np.choose(df8['sms_total'] >= 15, [0, 1])\n",
    "    \n",
    "    # kilobytes of data\n",
    "    print(\"  kilobytes of data...\")\n",
    "    hotspot_kb = network_usage.groupby('line_id')['hotspot_kb'].sum()\n",
    "    df8 = pd.merge(df8, hotspot_kb, on='line_id', how='left')\n",
    "    df8['hotspot_kb'].fillna(0, inplace=True)  \n",
    "    df8['hotspot_gb'] = df8['hotspot_kb'] / 1024.0 / 1024.0\n",
    "    \n",
    "    kb_5g = network_usage.groupby('line_id')['kb_5g'].sum()\n",
    "    df8 = pd.merge(df8, kb_5g, on='line_id', how='left')\n",
    "    df8['kb_5g'].fillna(0, inplace=True) \n",
    "    df8['gb_5g'] = df8['kb_5g'] / 1024.0 / 1024.0\n",
    "             \n",
    "    total_kb = network_usage.groupby('line_id')['total_kb'].sum()\n",
    "    df8 = pd.merge(df8, total_kb, on='line_id', how='left')\n",
    "    df8['total_kb'].fillna(0, inplace=True)  \n",
    "    df8['total_gb'] = df8['total_kb'] / 1024.0 / 1024.0\n",
    "    \n",
    "    df8.drop(['hotspot_kb', 'kb_5g', 'total_kb'], axis=1, inplace=True)\n",
    "    \n",
    "    # voice counts\n",
    "    print(\"  voice counts...\")\n",
    "    voice_count_in = network_usage.groupby('line_id')['voice_count_in'].sum()\n",
    "    df8 = pd.merge(df8, voice_count_in, on='line_id', how='left')\n",
    "    df8['voice_count_in'].fillna(0, inplace=True) \n",
    "    \n",
    "    voice_count_total = network_usage.groupby('line_id')['voice_count_total'].sum()\n",
    "    df8 = pd.merge(df8, voice_count_total, on='line_id', how='left')\n",
    "    df8['voice_count_total'].fillna(0, inplace=True) \n",
    "    \n",
    "    df8['voice_count_out'] = df8['voice_count_total'] - df8['voice_count_in']\n",
    "    df8['voice_count_diff'] = df8['voice_count_in'] - df8['voice_count_out']  \n",
    "        \n",
    "    df8['over_5_voice'] = np.choose(df8['voice_count_total'] >= 5, [0, 1])\n",
    "        \n",
    "    # voice minutes\n",
    "    print(\"  voice minutes..\")\n",
    "    voice_min_in = network_usage.groupby('line_id')['voice_min_in'].sum()\n",
    "    df8 = pd.merge(df8, voice_min_in, on='line_id', how='left')\n",
    "    df8['voice_min_in'].fillna(0, inplace=True) \n",
    "    \n",
    "    voice_min_out = network_usage.groupby('line_id')['voice_min_out'].sum()\n",
    "    df8 = pd.merge(df8, voice_min_out, on='line_id', how='left')\n",
    "    df8['voice_min_out'].fillna(0, inplace=True) \n",
    "    \n",
    "    df8['voice_min_total'] = df8['voice_min_in'] + df8['voice_min_out']\n",
    "    \n",
    "    # average call length\n",
    "    df8['average_call_length'] = np.choose(\n",
    "        df8['voice_count_total'] == 0, \n",
    "        [df8['voice_min_total'] / df8['voice_count_total'], 0]\n",
    "    )\n",
    "    \n",
    "    #num usages\n",
    "    num_network_usages = network_usage.groupby(['line_id']).size().to_frame('num_network_usages')\n",
    "    df8 = pd.merge(df8, num_network_usages, on='line_id', how='left')\n",
    "    df8['num_network_usages'].fillna(0, inplace=True)\n",
    "    df8['num_network_usages'] = np.log(df8['num_network_usages']+1)\n",
    "    df8['num_network_usages'] = minmax_scale(df8['num_network_usages'])\n",
    "    \n",
    "    print(\"  scaling all parameters..\")\n",
    "    df8['sms_in_total'] = standard_scale(np.log(df8['sms_in_total']+1))\n",
    "    df8['sms_out_total'] = standard_scale(np.log(df8['sms_out_total']+1))\n",
    "    df8['sms_total'] = standard_scale(np.log(df8['sms_total']+1))\n",
    "    df8['sms_diff'] = standard_scale(df8['sms_diff'])\n",
    "    df8['hotspot_gb'] = standard_scale(np.log(df8['hotspot_gb']+1))\n",
    "    df8['gb_5g'] = standard_scale(np.log(df8['gb_5g']+1))\n",
    "    df8['total_gb'] = standard_scale(np.log(df8['total_gb']+1))\n",
    "    df8['voice_count_in'] = standard_scale(np.log(df8['voice_count_in']+1))\n",
    "    df8['voice_count_out'] = standard_scale(np.log(df8['voice_count_out']+1))\n",
    "    df8['voice_count_total'] = standard_scale(np.log(df8['voice_count_total']+1))\n",
    "    df8['voice_min_in'] = standard_scale(np.log(df8['voice_min_in']+1))\n",
    "    df8['voice_min_out'] = standard_scale(np.log(df8['voice_min_out']+1))\n",
    "    df8['voice_min_total'] = standard_scale(np.log(df8['voice_min_total']+1))\n",
    "    df8['voice_count_diff'] = standard_scale(df8['voice_count_diff'])\n",
    "    df8['average_call_length'] = standard_scale(np.log(df8['average_call_length']+1))\n",
    "    \n",
    "    cache(df8, filepath)\n",
    "    \n",
    "    return df8"
   ]
  },
  {
   "cell_type": "code",
   "execution_count": 58,
   "metadata": {},
   "outputs": [
    {
     "name": "stdout",
     "output_type": "stream",
     "text": [
      "  sms and mms...\n",
      "  kilobytes of data...\n",
      "  voice counts...\n",
      "  voice minutes..\n",
      "  scaling all parameters..\n",
      "55868\n"
     ]
    },
    {
     "data": {
      "text/html": [
       "<div>\n",
       "<style scoped>\n",
       "    .dataframe tbody tr th:only-of-type {\n",
       "        vertical-align: middle;\n",
       "    }\n",
       "\n",
       "    .dataframe tbody tr th {\n",
       "        vertical-align: top;\n",
       "    }\n",
       "\n",
       "    .dataframe thead th {\n",
       "        text-align: right;\n",
       "    }\n",
       "</style>\n",
       "<table border=\"1\" class=\"dataframe\">\n",
       "  <thead>\n",
       "    <tr style=\"text-align: right;\">\n",
       "      <th></th>\n",
       "      <th>line_id</th>\n",
       "      <th>sms_in_total</th>\n",
       "      <th>sms_out_total</th>\n",
       "      <th>sms_diff</th>\n",
       "      <th>sms_total</th>\n",
       "      <th>over_15_sms</th>\n",
       "      <th>hotspot_gb</th>\n",
       "      <th>gb_5g</th>\n",
       "      <th>total_gb</th>\n",
       "      <th>voice_count_in</th>\n",
       "      <th>voice_count_total</th>\n",
       "      <th>voice_count_out</th>\n",
       "      <th>voice_count_diff</th>\n",
       "      <th>over_5_voice</th>\n",
       "      <th>voice_min_in</th>\n",
       "      <th>voice_min_out</th>\n",
       "      <th>voice_min_total</th>\n",
       "      <th>average_call_length</th>\n",
       "      <th>num_network_usages</th>\n",
       "    </tr>\n",
       "  </thead>\n",
       "  <tbody>\n",
       "    <tr>\n",
       "      <th>0</th>\n",
       "      <td>f0b99d3b-32f7-4464-8fa8-87f27c9810a8</td>\n",
       "      <td>0.69217</td>\n",
       "      <td>0.528104</td>\n",
       "      <td>0.493521</td>\n",
       "      <td>0.605278</td>\n",
       "      <td>1</td>\n",
       "      <td>-0.347243</td>\n",
       "      <td>-0.019078</td>\n",
       "      <td>0.671488</td>\n",
       "      <td>-0.476495</td>\n",
       "      <td>-1.055135</td>\n",
       "      <td>-2.153463</td>\n",
       "      <td>0.523804</td>\n",
       "      <td>1</td>\n",
       "      <td>-0.523527</td>\n",
       "      <td>-2.126809</td>\n",
       "      <td>-1.004709</td>\n",
       "      <td>-0.369328</td>\n",
       "      <td>1.0</td>\n",
       "    </tr>\n",
       "    <tr>\n",
       "      <th>1</th>\n",
       "      <td>a2ec0baf-1720-4b1b-bfa3-db00ac8fcb00</td>\n",
       "      <td>-0.01626</td>\n",
       "      <td>0.135005</td>\n",
       "      <td>-0.115131</td>\n",
       "      <td>0.030105</td>\n",
       "      <td>1</td>\n",
       "      <td>-0.336042</td>\n",
       "      <td>-0.019078</td>\n",
       "      <td>1.071869</td>\n",
       "      <td>0.501460</td>\n",
       "      <td>0.536366</td>\n",
       "      <td>0.588102</td>\n",
       "      <td>-0.081080</td>\n",
       "      <td>1</td>\n",
       "      <td>0.379532</td>\n",
       "      <td>0.064359</td>\n",
       "      <td>0.192206</td>\n",
       "      <td>-0.709071</td>\n",
       "      <td>1.0</td>\n",
       "    </tr>\n",
       "  </tbody>\n",
       "</table>\n",
       "</div>"
      ],
      "text/plain": [
       "                                line_id  sms_in_total  sms_out_total  \\\n",
       "0  f0b99d3b-32f7-4464-8fa8-87f27c9810a8       0.69217       0.528104   \n",
       "1  a2ec0baf-1720-4b1b-bfa3-db00ac8fcb00      -0.01626       0.135005   \n",
       "\n",
       "   sms_diff  sms_total  over_15_sms  hotspot_gb     gb_5g  total_gb  \\\n",
       "0  0.493521   0.605278            1   -0.347243 -0.019078  0.671488   \n",
       "1 -0.115131   0.030105            1   -0.336042 -0.019078  1.071869   \n",
       "\n",
       "   voice_count_in  voice_count_total  voice_count_out  voice_count_diff  \\\n",
       "0       -0.476495          -1.055135        -2.153463          0.523804   \n",
       "1        0.501460           0.536366         0.588102         -0.081080   \n",
       "\n",
       "   over_5_voice  voice_min_in  voice_min_out  voice_min_total  \\\n",
       "0             1     -0.523527      -2.126809        -1.004709   \n",
       "1             1      0.379532       0.064359         0.192206   \n",
       "\n",
       "   average_call_length  num_network_usages  \n",
       "0            -0.369328                 1.0  \n",
       "1            -0.709071                 1.0  "
      ]
     },
     "execution_count": 58,
     "metadata": {},
     "output_type": "execute_result"
    }
   ],
   "source": [
    "df8 = extract8(network_usage_domestic, upgrades, overwrite=True)\n",
    "print(len(df8))\n",
    "df8.head(2)"
   ]
  },
  {
   "cell_type": "markdown",
   "metadata": {},
   "source": [
    "## 9. LRP Points"
   ]
  },
  {
   "cell_type": "markdown",
   "metadata": {},
   "source": [
    "- notes: \n",
    "    - There are no duplicate line_ids.\n",
    "    - 8694/8860 people have no difference between quantity and total_quantity. \n",
    "    - remember to ignore all dates before the upgrade date.\n",
    "    - shoud look at graphs of people over time. \n",
    "- `total_quantity`\n",
    "    - the total quantity of points. default is 0. (I.e, the maximum number of lrp points they have)\n",
    "- `has_earned_points`\n",
    "    - not everything who enrols has earned points. \n",
    "    - This is a metric of if the person is actually engaging with the system or not.\n",
    "- `total_spent_lrp`\n",
    "    - difference between sum of quantities earned vs quantity spent. \n",
    "    - a majority are 0, but some have actually spent some points, up to ~28000\n",
    "- `has_spent`\n",
    "    - total_quantity is MORE than their quantity\n",
    "- `days_since_earnt`\n",
    "    - how long its been since earning"
   ]
  },
  {
   "cell_type": "code",
   "execution_count": 59,
   "metadata": {},
   "outputs": [
    {
     "data": {
      "text/html": [
       "<div>\n",
       "<style scoped>\n",
       "    .dataframe tbody tr th:only-of-type {\n",
       "        vertical-align: middle;\n",
       "    }\n",
       "\n",
       "    .dataframe tbody tr th {\n",
       "        vertical-align: top;\n",
       "    }\n",
       "\n",
       "    .dataframe thead th {\n",
       "        text-align: right;\n",
       "    }\n",
       "</style>\n",
       "<table border=\"1\" class=\"dataframe\">\n",
       "  <thead>\n",
       "    <tr style=\"text-align: right;\">\n",
       "      <th></th>\n",
       "      <th>line_id</th>\n",
       "      <th>quantity</th>\n",
       "      <th>status</th>\n",
       "      <th>total_quantity</th>\n",
       "      <th>update_date</th>\n",
       "    </tr>\n",
       "  </thead>\n",
       "  <tbody>\n",
       "    <tr>\n",
       "      <th>0</th>\n",
       "      <td>77f81f11-ed62-438d-9c04-02e3bcc0d756</td>\n",
       "      <td>2180.0</td>\n",
       "      <td>ENROLLED</td>\n",
       "      <td>2180.0</td>\n",
       "      <td>2021-01-02</td>\n",
       "    </tr>\n",
       "    <tr>\n",
       "      <th>1</th>\n",
       "      <td>d664604d-8b68-4302-b599-0165df0f27ad</td>\n",
       "      <td>1210.0</td>\n",
       "      <td>ENROLLED</td>\n",
       "      <td>1210.0</td>\n",
       "      <td>2021-01-03</td>\n",
       "    </tr>\n",
       "    <tr>\n",
       "      <th>2</th>\n",
       "      <td>9391d70b-14b4-41a6-ab94-130a333a9dc6</td>\n",
       "      <td>258.0</td>\n",
       "      <td>ENROLLED</td>\n",
       "      <td>258.0</td>\n",
       "      <td>2021-01-01</td>\n",
       "    </tr>\n",
       "    <tr>\n",
       "      <th>3</th>\n",
       "      <td>d0d9dd33-735d-48cb-b86b-39be4cb9af87</td>\n",
       "      <td>250.0</td>\n",
       "      <td>ENROLLED</td>\n",
       "      <td>250.0</td>\n",
       "      <td>2021-01-23</td>\n",
       "    </tr>\n",
       "    <tr>\n",
       "      <th>4</th>\n",
       "      <td>e0be071e-fe84-49a8-9622-cc43aa10fba1</td>\n",
       "      <td>320.0</td>\n",
       "      <td>ENROLLED</td>\n",
       "      <td>320.0</td>\n",
       "      <td>2021-02-21</td>\n",
       "    </tr>\n",
       "  </tbody>\n",
       "</table>\n",
       "</div>"
      ],
      "text/plain": [
       "                                line_id  quantity    status  total_quantity  \\\n",
       "0  77f81f11-ed62-438d-9c04-02e3bcc0d756    2180.0  ENROLLED          2180.0   \n",
       "1  d664604d-8b68-4302-b599-0165df0f27ad    1210.0  ENROLLED          1210.0   \n",
       "2  9391d70b-14b4-41a6-ab94-130a333a9dc6     258.0  ENROLLED           258.0   \n",
       "3  d0d9dd33-735d-48cb-b86b-39be4cb9af87     250.0  ENROLLED           250.0   \n",
       "4  e0be071e-fe84-49a8-9622-cc43aa10fba1     320.0  ENROLLED           320.0   \n",
       "\n",
       "  update_date  \n",
       "0  2021-01-02  \n",
       "1  2021-01-03  \n",
       "2  2021-01-01  \n",
       "3  2021-01-23  \n",
       "4  2021-02-21  "
      ]
     },
     "execution_count": 59,
     "metadata": {},
     "output_type": "execute_result"
    }
   ],
   "source": [
    "lrp_points=pd.read_csv(data_folder+\"data/dev/lrp_points.csv\")\n",
    "lrp_points.head()"
   ]
  },
  {
   "cell_type": "code",
   "execution_count": 60,
   "metadata": {},
   "outputs": [],
   "source": [
    "def extract9(lrp_points, upgrades, filepath=None, overwrite=False):\n",
    "    if not filepath:\n",
    "        filepath = \"pickles/df9.pickle\"\n",
    "    if is_cached(filepath) and not overwrite:\n",
    "        return load_cache(filepath)\n",
    "    \n",
    "    lrp_points = lrp_points.copy()\n",
    "    df9 = upgrades[['line_id']].copy()\n",
    "    \n",
    "    df9 = pd.merge(df9, lrp_points, on='line_id', how='left')\n",
    "    \n",
    "    # total_quantity\n",
    "    df9['total_quantity'].fillna(0, inplace=True)\n",
    "\n",
    "    # has_earned_points\n",
    "    df9['has_earned_points'] = np.where(df9['status'] == 'ENROLLED', 1, 0)\n",
    "    \n",
    "    # total_spent\n",
    "    df9['total_spent_lrp'] = df9['total_quantity'] - df9['quantity']\n",
    "    df9['total_spent_lrp'].fillna(0, inplace=True)\n",
    "    \n",
    "    # has_spent\n",
    "    df9['has_spent'] = np.where(df9['total_spent_lrp'] > 0, 1, 0)\n",
    "    \n",
    "    # days_since_earnt\n",
    "    df9['update_date'] = convert_to_datetime(df9['update_date'])\n",
    "    df9 = pd.merge(df9, upgrades[['line_id', 'date_observed']].copy(), on='line_id', how='left')\n",
    "    df9['date_observed'] = convert_to_datetime(df9['date_observed'])\n",
    "    \n",
    "    df9['days_since_update'] = (df9['date_observed'] - df9['update_date']).dt.days\n",
    "    df9['days_since_update'].fillna(0, inplace=True)\n",
    "    df9['days_since_update'] = minmax_scale(np.log(df9['days_since_update']+1))\n",
    "    \n",
    "    df9.drop(['quantity', 'status', 'update_date', 'date_observed'], axis=1, inplace=True)\n",
    "\n",
    "    cache(df9, filepath)\n",
    "    return df9"
   ]
  },
  {
   "cell_type": "code",
   "execution_count": 61,
   "metadata": {},
   "outputs": [
    {
     "name": "stdout",
     "output_type": "stream",
     "text": [
      "55868\n"
     ]
    },
    {
     "data": {
      "text/html": [
       "<div>\n",
       "<style scoped>\n",
       "    .dataframe tbody tr th:only-of-type {\n",
       "        vertical-align: middle;\n",
       "    }\n",
       "\n",
       "    .dataframe tbody tr th {\n",
       "        vertical-align: top;\n",
       "    }\n",
       "\n",
       "    .dataframe thead th {\n",
       "        text-align: right;\n",
       "    }\n",
       "</style>\n",
       "<table border=\"1\" class=\"dataframe\">\n",
       "  <thead>\n",
       "    <tr style=\"text-align: right;\">\n",
       "      <th></th>\n",
       "      <th>line_id</th>\n",
       "      <th>total_quantity</th>\n",
       "      <th>has_earned_points</th>\n",
       "      <th>total_spent_lrp</th>\n",
       "      <th>has_spent</th>\n",
       "      <th>days_since_update</th>\n",
       "    </tr>\n",
       "  </thead>\n",
       "  <tbody>\n",
       "    <tr>\n",
       "      <th>0</th>\n",
       "      <td>f0b99d3b-32f7-4464-8fa8-87f27c9810a8</td>\n",
       "      <td>0.0</td>\n",
       "      <td>0</td>\n",
       "      <td>0.0</td>\n",
       "      <td>0</td>\n",
       "      <td>0.00000</td>\n",
       "    </tr>\n",
       "    <tr>\n",
       "      <th>1</th>\n",
       "      <td>a2ec0baf-1720-4b1b-bfa3-db00ac8fcb00</td>\n",
       "      <td>0.0</td>\n",
       "      <td>0</td>\n",
       "      <td>0.0</td>\n",
       "      <td>0</td>\n",
       "      <td>0.00000</td>\n",
       "    </tr>\n",
       "    <tr>\n",
       "      <th>2</th>\n",
       "      <td>dd3a01a3-7baf-4605-9799-ce434328a20d</td>\n",
       "      <td>0.0</td>\n",
       "      <td>0</td>\n",
       "      <td>0.0</td>\n",
       "      <td>0</td>\n",
       "      <td>0.00000</td>\n",
       "    </tr>\n",
       "    <tr>\n",
       "      <th>3</th>\n",
       "      <td>5cf5917c-f407-4cc7-9d6d-dafe8ec0eccc</td>\n",
       "      <td>0.0</td>\n",
       "      <td>0</td>\n",
       "      <td>0.0</td>\n",
       "      <td>0</td>\n",
       "      <td>0.00000</td>\n",
       "    </tr>\n",
       "    <tr>\n",
       "      <th>4</th>\n",
       "      <td>6437fcbd-02c4-4c52-b5b2-f7e535ecec47</td>\n",
       "      <td>0.0</td>\n",
       "      <td>0</td>\n",
       "      <td>0.0</td>\n",
       "      <td>0</td>\n",
       "      <td>0.00000</td>\n",
       "    </tr>\n",
       "    <tr>\n",
       "      <th>5</th>\n",
       "      <td>78aed261-2ea1-4659-89c9-5e437efeeb58</td>\n",
       "      <td>0.0</td>\n",
       "      <td>0</td>\n",
       "      <td>0.0</td>\n",
       "      <td>0</td>\n",
       "      <td>0.00000</td>\n",
       "    </tr>\n",
       "    <tr>\n",
       "      <th>6</th>\n",
       "      <td>045c85c4-0795-4554-a6ce-d53aa6d9baca</td>\n",
       "      <td>0.0</td>\n",
       "      <td>0</td>\n",
       "      <td>0.0</td>\n",
       "      <td>0</td>\n",
       "      <td>0.00000</td>\n",
       "    </tr>\n",
       "    <tr>\n",
       "      <th>7</th>\n",
       "      <td>29651448-78e2-4328-9d30-45f8ee34b2ff</td>\n",
       "      <td>0.0</td>\n",
       "      <td>0</td>\n",
       "      <td>0.0</td>\n",
       "      <td>0</td>\n",
       "      <td>0.00000</td>\n",
       "    </tr>\n",
       "    <tr>\n",
       "      <th>8</th>\n",
       "      <td>f78b1a12-f0e4-4b9d-92a1-47bfd60edd9a</td>\n",
       "      <td>260.0</td>\n",
       "      <td>1</td>\n",
       "      <td>0.0</td>\n",
       "      <td>0</td>\n",
       "      <td>0.18709</td>\n",
       "    </tr>\n",
       "    <tr>\n",
       "      <th>9</th>\n",
       "      <td>58975e56-c6ea-4884-89d3-5449b6203b01</td>\n",
       "      <td>0.0</td>\n",
       "      <td>0</td>\n",
       "      <td>0.0</td>\n",
       "      <td>0</td>\n",
       "      <td>0.00000</td>\n",
       "    </tr>\n",
       "  </tbody>\n",
       "</table>\n",
       "</div>"
      ],
      "text/plain": [
       "                                line_id  total_quantity  has_earned_points  \\\n",
       "0  f0b99d3b-32f7-4464-8fa8-87f27c9810a8             0.0                  0   \n",
       "1  a2ec0baf-1720-4b1b-bfa3-db00ac8fcb00             0.0                  0   \n",
       "2  dd3a01a3-7baf-4605-9799-ce434328a20d             0.0                  0   \n",
       "3  5cf5917c-f407-4cc7-9d6d-dafe8ec0eccc             0.0                  0   \n",
       "4  6437fcbd-02c4-4c52-b5b2-f7e535ecec47             0.0                  0   \n",
       "5  78aed261-2ea1-4659-89c9-5e437efeeb58             0.0                  0   \n",
       "6  045c85c4-0795-4554-a6ce-d53aa6d9baca             0.0                  0   \n",
       "7  29651448-78e2-4328-9d30-45f8ee34b2ff             0.0                  0   \n",
       "8  f78b1a12-f0e4-4b9d-92a1-47bfd60edd9a           260.0                  1   \n",
       "9  58975e56-c6ea-4884-89d3-5449b6203b01             0.0                  0   \n",
       "\n",
       "   total_spent_lrp  has_spent  days_since_update  \n",
       "0              0.0          0            0.00000  \n",
       "1              0.0          0            0.00000  \n",
       "2              0.0          0            0.00000  \n",
       "3              0.0          0            0.00000  \n",
       "4              0.0          0            0.00000  \n",
       "5              0.0          0            0.00000  \n",
       "6              0.0          0            0.00000  \n",
       "7              0.0          0            0.00000  \n",
       "8              0.0          0            0.18709  \n",
       "9              0.0          0            0.00000  "
      ]
     },
     "execution_count": 61,
     "metadata": {},
     "output_type": "execute_result"
    }
   ],
   "source": [
    "df9 = extract9(lrp_points, upgrades, overwrite=True)\n",
    "print(len(df9))\n",
    "df9.head(10)"
   ]
  },
  {
   "cell_type": "code",
   "execution_count": 62,
   "metadata": {},
   "outputs": [
    {
     "data": {
      "text/plain": [
       "8860"
      ]
     },
     "execution_count": 62,
     "metadata": {},
     "output_type": "execute_result"
    }
   ],
   "source": [
    "len(lrp_points)"
   ]
  },
  {
   "cell_type": "code",
   "execution_count": 63,
   "metadata": {},
   "outputs": [
    {
     "data": {
      "text/plain": [
       "0.0        8694\n",
       "7000.0       77\n",
       "250.0        41\n",
       "200.0        17\n",
       "14000.0       9\n",
       "800.0         4\n",
       "5000.0        4\n",
       "600.0         3\n",
       "5200.0        2\n",
       "21000.0       2\n",
       "12000.0       1\n",
       "7400.0        1\n",
       "6000.0        1\n",
       "7250.0        1\n",
       "400.0         1\n",
       "28000.0       1\n",
       "dtype: int64"
      ]
     },
     "execution_count": 63,
     "metadata": {},
     "output_type": "execute_result"
    }
   ],
   "source": [
    "(lrp_points['total_quantity'] - lrp_points['quantity']).value_counts(ascending=False)"
   ]
  },
  {
   "cell_type": "code",
   "execution_count": 64,
   "metadata": {},
   "outputs": [
    {
     "data": {
      "text/plain": [
       "line_id\n",
       "0006966b-f94f-4f48-8fda-318353467352     790.0\n",
       "0028a1e6-04f6-410b-ae4d-67415aabbc1e    1331.0\n",
       "0029992d-3863-4b19-b26e-867d98b8d81a    3098.0\n",
       "002bd8ae-6a98-45b2-abcd-a0be867ca6ed    3132.0\n",
       "00307c7f-d837-44d9-b299-c092954acafe     250.0\n",
       "                                         ...  \n",
       "ffdf8f7f-9460-430a-bb26-3cbac043fa79    2389.0\n",
       "ffe57670-08d4-460a-821f-0c809990b9c6     350.0\n",
       "ffe64eb8-4c52-4f84-9060-e750a5612cb7     911.0\n",
       "ffe864bf-762e-4011-a115-7f0575cd1908     847.0\n",
       "ffee7004-d6ad-404f-b8f9-c94d23672cab     670.0\n",
       "Name: quantity, Length: 8860, dtype: float64"
      ]
     },
     "execution_count": 64,
     "metadata": {},
     "output_type": "execute_result"
    }
   ],
   "source": [
    "lrp_points.groupby('line_id')['quantity'].sum()"
   ]
  },
  {
   "cell_type": "markdown",
   "metadata": {},
   "source": [
    "## 10. LRP Enrollment"
   ]
  },
  {
   "cell_type": "markdown",
   "metadata": {},
   "source": [
    "- `has_enrolled_lrp`\n",
    "    - 1 or 0 saying if they've enrolled.\n",
    "- `has_enrolled_twice`\n",
    "    - if you've enrolled twice\n",
    "- `months_since_enrollment`\n",
    "    - default is 0\n",
    "    - log\n",
    "    - some people have enrolled twice, take the most recent date"
   ]
  },
  {
   "cell_type": "code",
   "execution_count": 65,
   "metadata": {},
   "outputs": [
    {
     "data": {
      "text/html": [
       "<div>\n",
       "<style scoped>\n",
       "    .dataframe tbody tr th:only-of-type {\n",
       "        vertical-align: middle;\n",
       "    }\n",
       "\n",
       "    .dataframe tbody tr th {\n",
       "        vertical-align: top;\n",
       "    }\n",
       "\n",
       "    .dataframe thead th {\n",
       "        text-align: right;\n",
       "    }\n",
       "</style>\n",
       "<table border=\"1\" class=\"dataframe\">\n",
       "  <thead>\n",
       "    <tr style=\"text-align: right;\">\n",
       "      <th></th>\n",
       "      <th>line_id</th>\n",
       "      <th>lrp_enrolled</th>\n",
       "      <th>lrp_enrollment_date</th>\n",
       "    </tr>\n",
       "  </thead>\n",
       "  <tbody>\n",
       "    <tr>\n",
       "      <th>0</th>\n",
       "      <td>487ddc53-0fe4-429e-950d-8f3de2231883</td>\n",
       "      <td>Y</td>\n",
       "      <td>2019-12-02</td>\n",
       "    </tr>\n",
       "    <tr>\n",
       "      <th>1</th>\n",
       "      <td>081267e8-6fd7-467e-96e2-758cd8597800</td>\n",
       "      <td>Y</td>\n",
       "      <td>2017-04-30</td>\n",
       "    </tr>\n",
       "    <tr>\n",
       "      <th>2</th>\n",
       "      <td>a3982b37-9489-4685-ab75-c0429a2f62ea</td>\n",
       "      <td>Y</td>\n",
       "      <td>2021-01-06</td>\n",
       "    </tr>\n",
       "    <tr>\n",
       "      <th>3</th>\n",
       "      <td>f3089423-3c6d-4bfc-97f7-f5f139b526d6</td>\n",
       "      <td>Y</td>\n",
       "      <td>2019-07-06</td>\n",
       "    </tr>\n",
       "    <tr>\n",
       "      <th>4</th>\n",
       "      <td>cb1418f2-37dd-4a0e-ae49-2d02e6ac9e0c</td>\n",
       "      <td>Y</td>\n",
       "      <td>2019-12-05</td>\n",
       "    </tr>\n",
       "  </tbody>\n",
       "</table>\n",
       "</div>"
      ],
      "text/plain": [
       "                                line_id lrp_enrolled lrp_enrollment_date\n",
       "0  487ddc53-0fe4-429e-950d-8f3de2231883            Y          2019-12-02\n",
       "1  081267e8-6fd7-467e-96e2-758cd8597800            Y          2017-04-30\n",
       "2  a3982b37-9489-4685-ab75-c0429a2f62ea            Y          2021-01-06\n",
       "3  f3089423-3c6d-4bfc-97f7-f5f139b526d6            Y          2019-07-06\n",
       "4  cb1418f2-37dd-4a0e-ae49-2d02e6ac9e0c            Y          2019-12-05"
      ]
     },
     "execution_count": 65,
     "metadata": {},
     "output_type": "execute_result"
    }
   ],
   "source": [
    "lrp_enrollment=pd.read_csv(data_folder+\"data/dev/lrp_enrollment.csv\")\n",
    "lrp_enrollment.head()"
   ]
  },
  {
   "cell_type": "code",
   "execution_count": 66,
   "metadata": {
    "scrolled": true
   },
   "outputs": [],
   "source": [
    "def extract10(lrp_enrollment, upgrades, filepath=None, overwrite=False):\n",
    "    if not filepath:\n",
    "        filepath = \"pickles/df10.pickle\"\n",
    "    if is_cached(filepath) and not overwrite:\n",
    "        return load_cache(filepath)\n",
    "    \n",
    "    lrp_enrollment = lrp_enrollment.copy()\n",
    "    df10 = upgrades[['line_id', 'date_observed']].copy()\n",
    "    \n",
    "    num_enrols = lrp_enrollment.groupby('line_id').size().to_frame('num_enrols')\n",
    "    df10 = pd.merge(df10, num_enrols, on='line_id', how='left')\n",
    "    df10['num_enrols'].fillna(0, inplace=True)\n",
    "    df10['has_enrolled'] = np.where(df10['num_enrols'] > 0, 1, 0)\n",
    "    df10['has_enrolled_over_twice'] = np.where(df10['num_enrols'] >= 2, 1, 0)\n",
    "    \n",
    "    df10['num_enrols'] = minmax_scale(df10['num_enrols'])\n",
    "    \n",
    "    # num months since enrolment\n",
    "    df10['date_observed'] = convert_to_datetime(df10['date_observed'])\n",
    "    lrp_enrollment['lrp_enrollment_date'] = convert_to_datetime(lrp_enrollment['lrp_enrollment_date'])\n",
    "    \n",
    "    last_enrolled_date = lrp_enrollment.groupby('line_id')['lrp_enrollment_date'].max()\n",
    "    df10 = pd.merge(df10, last_enrolled_date, on='line_id', how='left')\n",
    "    \n",
    "    df10['months_since_enrolled'] = (df10['date_observed'] - df10['lrp_enrollment_date']).dt.days/30+1\n",
    "    df10['months_since_enrolled'].fillna(0, inplace=True)\n",
    "    df10['months_since_enrolled'] = standard_scale(np.log(df10['months_since_enrolled']+1))\n",
    "    \n",
    "    df10.drop(['date_observed', 'lrp_enrollment_date'], axis=1, inplace=True)\n",
    "    \n",
    "    cache(df10, filepath)\n",
    "    return df10"
   ]
  },
  {
   "cell_type": "code",
   "execution_count": 67,
   "metadata": {},
   "outputs": [
    {
     "name": "stdout",
     "output_type": "stream",
     "text": [
      "55868\n"
     ]
    },
    {
     "data": {
      "text/html": [
       "<div>\n",
       "<style scoped>\n",
       "    .dataframe tbody tr th:only-of-type {\n",
       "        vertical-align: middle;\n",
       "    }\n",
       "\n",
       "    .dataframe tbody tr th {\n",
       "        vertical-align: top;\n",
       "    }\n",
       "\n",
       "    .dataframe thead th {\n",
       "        text-align: right;\n",
       "    }\n",
       "</style>\n",
       "<table border=\"1\" class=\"dataframe\">\n",
       "  <thead>\n",
       "    <tr style=\"text-align: right;\">\n",
       "      <th></th>\n",
       "      <th>line_id</th>\n",
       "      <th>num_enrols</th>\n",
       "      <th>has_enrolled</th>\n",
       "      <th>has_enrolled_over_twice</th>\n",
       "      <th>months_since_enrolled</th>\n",
       "    </tr>\n",
       "  </thead>\n",
       "  <tbody>\n",
       "    <tr>\n",
       "      <th>0</th>\n",
       "      <td>f0b99d3b-32f7-4464-8fa8-87f27c9810a8</td>\n",
       "      <td>0.5</td>\n",
       "      <td>1</td>\n",
       "      <td>0</td>\n",
       "      <td>2.611383</td>\n",
       "    </tr>\n",
       "    <tr>\n",
       "      <th>1</th>\n",
       "      <td>a2ec0baf-1720-4b1b-bfa3-db00ac8fcb00</td>\n",
       "      <td>0.5</td>\n",
       "      <td>1</td>\n",
       "      <td>0</td>\n",
       "      <td>0.841585</td>\n",
       "    </tr>\n",
       "    <tr>\n",
       "      <th>2</th>\n",
       "      <td>dd3a01a3-7baf-4605-9799-ce434328a20d</td>\n",
       "      <td>0.0</td>\n",
       "      <td>0</td>\n",
       "      <td>0</td>\n",
       "      <td>-0.624808</td>\n",
       "    </tr>\n",
       "    <tr>\n",
       "      <th>3</th>\n",
       "      <td>5cf5917c-f407-4cc7-9d6d-dafe8ec0eccc</td>\n",
       "      <td>0.0</td>\n",
       "      <td>0</td>\n",
       "      <td>0</td>\n",
       "      <td>-0.624808</td>\n",
       "    </tr>\n",
       "    <tr>\n",
       "      <th>4</th>\n",
       "      <td>6437fcbd-02c4-4c52-b5b2-f7e535ecec47</td>\n",
       "      <td>0.0</td>\n",
       "      <td>0</td>\n",
       "      <td>0</td>\n",
       "      <td>-0.624808</td>\n",
       "    </tr>\n",
       "  </tbody>\n",
       "</table>\n",
       "</div>"
      ],
      "text/plain": [
       "                                line_id  num_enrols  has_enrolled  \\\n",
       "0  f0b99d3b-32f7-4464-8fa8-87f27c9810a8         0.5             1   \n",
       "1  a2ec0baf-1720-4b1b-bfa3-db00ac8fcb00         0.5             1   \n",
       "2  dd3a01a3-7baf-4605-9799-ce434328a20d         0.0             0   \n",
       "3  5cf5917c-f407-4cc7-9d6d-dafe8ec0eccc         0.0             0   \n",
       "4  6437fcbd-02c4-4c52-b5b2-f7e535ecec47         0.0             0   \n",
       "\n",
       "   has_enrolled_over_twice  months_since_enrolled  \n",
       "0                        0               2.611383  \n",
       "1                        0               0.841585  \n",
       "2                        0              -0.624808  \n",
       "3                        0              -0.624808  \n",
       "4                        0              -0.624808  "
      ]
     },
     "execution_count": 67,
     "metadata": {},
     "output_type": "execute_result"
    }
   ],
   "source": [
    "df10 = extract10(lrp_enrollment, upgrades, overwrite=True)\n",
    "print(len(df10))\n",
    "df10.head(5)"
   ]
  },
  {
   "cell_type": "code",
   "execution_count": 68,
   "metadata": {},
   "outputs": [
    {
     "data": {
      "text/plain": [
       "17634"
      ]
     },
     "execution_count": 68,
     "metadata": {},
     "output_type": "execute_result"
    }
   ],
   "source": [
    "len(lrp_enrollment)"
   ]
  },
  {
   "cell_type": "code",
   "execution_count": 69,
   "metadata": {},
   "outputs": [
    {
     "data": {
      "text/plain": [
       "Y    17634\n",
       "Name: lrp_enrolled, dtype: int64"
      ]
     },
     "execution_count": 69,
     "metadata": {},
     "output_type": "execute_result"
    }
   ],
   "source": [
    "lrp_enrollment['lrp_enrolled'].value_counts()"
   ]
  },
  {
   "cell_type": "markdown",
   "metadata": {},
   "source": [
    "## Final Merge and Save"
   ]
  },
  {
   "cell_type": "code",
   "execution_count": 70,
   "metadata": {},
   "outputs": [
    {
     "ename": "AssertionError",
     "evalue": "",
     "output_type": "error",
     "traceback": [
      "\u001b[0;31m---------------------------------------------------------------------------\u001b[0m",
      "\u001b[0;31mAssertionError\u001b[0m                            Traceback (most recent call last)",
      "\u001b[0;32m<ipython-input-70-d34f4dfab4b4>\u001b[0m in \u001b[0;36m<module>\u001b[0;34m\u001b[0m\n\u001b[0;32m----> 1\u001b[0;31m \u001b[0;32massert\u001b[0m\u001b[0;34m(\u001b[0m\u001b[0;32mFalse\u001b[0m\u001b[0;34m)\u001b[0m  \u001b[0;31m# block run all from reaching this stage\u001b[0m\u001b[0;34m\u001b[0m\u001b[0;34m\u001b[0m\u001b[0m\n\u001b[0m",
      "\u001b[0;31mAssertionError\u001b[0m: "
     ]
    }
   ],
   "source": [
    "assert(False)  # block run all from reaching this stage"
   ]
  },
  {
   "cell_type": "code",
   "execution_count": null,
   "metadata": {},
   "outputs": [],
   "source": [
    "def merge_and_save(\n",
    "    upgrades, customer_info, phone_info, redemptions, deactivations,\n",
    "    reactivations, suspensions, network_usage_domestic, lrp_points, lrp_enrollment, \n",
    "    filepath, overwrite=False):\n",
    "    \n",
    "    \"\"\"Extract all features, and then merge them all together\"\"\"\n",
    "    \n",
    "    print(\"extracting 1...\")\n",
    "    df1 = extract1(upgrades)\n",
    "    print(\"extracting 2...\")\n",
    "    df2 = extract2(customer_info, upgrades)\n",
    "    print(\"extracting 3...\")\n",
    "    df3 = extract3(phone_info, upgrades, filepath=\"pickles/d3_eval.pickle\", overwrite=overwrite)\n",
    "    print(\"extracting 4...\")\n",
    "    df4 = extract4(redemptions, upgrades, filepath=\"pickles/d4_eval.pickle\", overwrite=overwrite)\n",
    "    print(\"extracting 5...\")\n",
    "    df5 = extract5(deactivations, upgrades, filepath=\"pickles/d5_eval.pickle\", overwrite=overwrite)\n",
    "    print(\"extracting 6...\")\n",
    "    df6 = extract6(reactivations, deactivations, upgrades, filepath=\"pickles/d6_eval.pickle\", overwrite=overwrite)\n",
    "    print(\"extracting 7...\")\n",
    "    df7 = extract7(suspensions, upgrades, filepath=\"pickles/d7_eval.pickle\", overwrite=overwrite)\n",
    "    print(\"extracting 8...\")\n",
    "    df8 = extract8(network_usage_domestic, upgrades, filepath=\"pickles/d8_eval.pickle\", overwrite=overwrite)\n",
    "    print(\"extracting 9...\")\n",
    "    df9 = extract9(lrp_points, upgrades, filepath=\"pickles/d9_eval.pickle\", overwrite=overwrite)\n",
    "    print(\"extracting 10...\")\n",
    "    df10 = extract10(lrp_enrollment, upgrades, filepath=\"pickles/d10_eval.pickle\", overwrite=overwrite)\n",
    "\n",
    "    print(\"merging them all together...\")\n",
    "    dfs = [df1, df2, df3, df4, df5, df6, df7, df8, df9, df10]\n",
    "    df = dfs[0].copy()\n",
    "    for i in range(1, len(dfs)):\n",
    "        assert(len(dfs[i]) == len(df))\n",
    "        df = pd.merge(df, dfs[i], on='line_id')\n",
    "\n",
    "    print(\"saving to file...\")\n",
    "    df.to_csv(filepath,header=True,index=None)\n",
    "\n",
    "    print(\"done!\")"
   ]
  },
  {
   "cell_type": "code",
   "execution_count": null,
   "metadata": {},
   "outputs": [],
   "source": [
    "merge_and_save(upgrades, customer_info, phone_info, redemptions, deactivations,\n",
    "    reactivations, suspensions, network_usage_domestic, lrp_points, lrp_enrollment, \n",
    "    filepath=root_folder+\"kevin-zhu/dev-extracted.csv\")"
   ]
  },
  {
   "cell_type": "code",
   "execution_count": null,
   "metadata": {},
   "outputs": [],
   "source": [
    "print(\"loading upgrades...\")\n",
    "upgrades_eval = pd.read_csv(data_folder+\"data/eval/upgrades.csv\")\n",
    "print(\"loading customer_info...\")\n",
    "customer_info_eval = pd.read_csv(data_folder+\"data/eval/customer_info.csv\")\n",
    "print(\"loading phone_info...\")\n",
    "phone_info_eval = pd.read_csv(data_folder+\"data/eval/phone_info.csv\")\n",
    "print(\"loading redemptions...\")\n",
    "redemptions_eval = pd.read_csv(data_folder+\"data/eval/redemptions.csv\")\n",
    "print(\"loading deactivations...\")\n",
    "deactivations_eval = pd.read_csv(data_folder+\"data/eval/deactivations.csv\")\n",
    "print(\"loading reactivations...\")\n",
    "reactivations_eval = pd.read_csv(data_folder+\"data/eval/reactivations.csv\")\n",
    "print(\"loading suspensions...\")\n",
    "suspensions_eval = pd.read_csv(data_folder+\"data/eval/suspensions.csv\")\n",
    "print(\"loading network_usage_domestic...\")\n",
    "network_usage_domestic_eval = pd.read_csv(data_folder+\"data/eval/network_usage_domestic.csv\")\n",
    "print(\"loading lrp_points...\")\n",
    "lrp_points_eval = pd.read_csv(data_folder+\"data/eval/lrp_points.csv\")\n",
    "print(\"loading lrp_enrollment...\")\n",
    "lrp_enrollment_eval = pd.read_csv(data_folder+\"data/eval/lrp_enrollment.csv\")\n",
    "print(\"done!\")"
   ]
  },
  {
   "cell_type": "code",
   "execution_count": null,
   "metadata": {},
   "outputs": [],
   "source": [
    "# merge eval data\n",
    "merge_and_save(upgrades_eval, customer_info_eval, phone_info_eval, redemptions_eval, deactivations_eval,\n",
    "    reactivations_eval, suspensions_eval, network_usage_domestic_eval, lrp_points_eval, lrp_enrollment_eval,\n",
    "    filepath = root_folder+\"kevin-zhu/eval-extracted.csv\")"
   ]
  },
  {
   "cell_type": "code",
   "execution_count": null,
   "metadata": {},
   "outputs": [],
   "source": [
    "print(\"nan values?\", df.isna().any().any()) # check for any nan values in the data"
   ]
  },
  {
   "cell_type": "code",
   "execution_count": null,
   "metadata": {},
   "outputs": [],
   "source": [
    "print(len(df.dtypes))\n",
    "with pd.option_context(\"display.max_rows\", 100):\n",
    "    print(df.dtypes.head(100))"
   ]
  },
  {
   "cell_type": "markdown",
   "metadata": {},
   "source": [
    "## Classifier"
   ]
  },
  {
   "cell_type": "code",
   "execution_count": null,
   "metadata": {},
   "outputs": [],
   "source": [
    "data = pd.read_csv(root_folder+\"kevin-zhu/dev-extracted.csv\")\n",
    "y = data['upgrade']\n",
    "X = data.drop(['line_id', 'upgrade'], axis = 1)\n",
    "\n",
    "print(\"num features:\", len(X.dtypes))\n",
    "\n",
    "X_train, X_test, y_train, y_test = train_test_split(X, y, test_size=0.2, random_state=0)\n",
    "print(\"num train samples:\", len(X_train))\n",
    "print(\"num test samples:\", len(X_test))"
   ]
  },
  {
   "cell_type": "code",
   "execution_count": null,
   "metadata": {
    "scrolled": true
   },
   "outputs": [],
   "source": [
    "rfc  = RandomForestClassifier(random_state=0, n_estimators=100)\n",
    "\n",
    "print(f\"training random forests...\")\n",
    "time0 = time.time()\n",
    "rfc.fit(X_train, y_train)\n",
    "print(f\"training time: {time.time() - time0:.4}s\")"
   ]
  },
  {
   "cell_type": "code",
   "execution_count": null,
   "metadata": {},
   "outputs": [],
   "source": [
    "print(f\"Evaluating random forest:\")\n",
    "yhat = rfc.predict(X_test)\n",
    "\n",
    "print(\"  accuracy: \", accuracy_score(y_test, yhat))\n",
    "print(\"  precision:\", precision_score(y_test, yhat))\n",
    "print(\"  recall:   \", recall_score(y_test, yhat))\n",
    "print(\"  f1 score: \", f1_score(y_test, yhat))"
   ]
  },
  {
   "cell_type": "code",
   "execution_count": null,
   "metadata": {},
   "outputs": [],
   "source": [
    "importances = rfc.feature_importances_\n",
    "feat_names = X_train.columns\n",
    "indices = np.argsort(importances)[::-1]\n",
    "for i in range(20):\n",
    "    print(f\"{feat_names[indices][i]}: {importances[indices][i]}\")"
   ]
  },
  {
   "cell_type": "code",
   "execution_count": null,
   "metadata": {},
   "outputs": [],
   "source": [
    "importances = rfc.feature_importances_\n",
    "feat_names = X_train.columns\n",
    "indices = np.argsort(importances)[::-1]\n",
    "plt.figure(figsize=(18,6))\n",
    "plt.title(\"Feature importances by RandomForest\")\n",
    "plt.bar(range(len(indices)), importances[indices], color='lightblue',  align=\"center\")\n",
    "plt.step(range(len(indices)), np.cumsum(importances[indices]), where='mid', label='Cumulative')\n",
    "plt.xticks(range(len(indices)), feat_names[indices], rotation='vertical',fontsize=14)\n",
    "plt.xlim([-1, len(indices)])\n",
    "plt.show()"
   ]
  },
  {
   "cell_type": "code",
   "execution_count": null,
   "metadata": {},
   "outputs": [],
   "source": []
  },
  {
   "cell_type": "markdown",
   "metadata": {},
   "source": [
    "## Eval"
   ]
  },
  {
   "cell_type": "code",
   "execution_count": null,
   "metadata": {},
   "outputs": [],
   "source": [
    "data_eval = pd.read_csv(root_folder+\"kevin-zhu/eval-extracted.csv\")\n",
    "X_eval = data_eval.drop(['line_id'], axis = 1)\n",
    "\n",
    "prediction = upgrades_eval[['line_id']].copy()\n",
    "prediction['upgrade'] = rfc.predict(X_eval)\n",
    "\n",
    "submission_path=root_folder+\"kevin-zhu/submission/2021-04-24.csv\"\n",
    "# submission_path=root_folder+\"submission/2021-04-24.csv\"\n",
    "prediction.to_csv(submission_path,header=True,index=None)\n",
    "\n",
    "assert(len(prediction) == len(upgrades_eval))\n",
    "print(len(prediction))\n",
    "prediction"
   ]
  },
  {
   "cell_type": "code",
   "execution_count": null,
   "metadata": {},
   "outputs": [],
   "source": [
    "from sklearn.ensemble import AdaBoostClassifier"
   ]
  },
  {
   "cell_type": "code",
   "execution_count": null,
   "metadata": {},
   "outputs": [],
   "source": [
    "dtc = DecisionTreeClassifier(random_state=0, max_features=\"auto\", max_depth=None, criterion='entropy', splitter='best')\n",
    "abc = AdaBoostClassifier(base_estimator=dtc, learning_rate=0.1, n_estimators=50)\n",
    "\n",
    "print(f\"training adaboost...\")\n",
    "time0 = time.time()\n",
    "abc.fit(X_train, y_train)\n",
    "print(f\"training time: {time.time() - time0:.4}s\")"
   ]
  },
  {
   "cell_type": "code",
   "execution_count": null,
   "metadata": {},
   "outputs": [],
   "source": [
    "print(f\"Evaluating adaboost:\")\n",
    "yhat = abc.predict(X_test)\n",
    "\n",
    "print(\"  accuracy: \", accuracy_score(y_test, yhat))\n",
    "print(\"  precision:\", precision_score(y_test, yhat))\n",
    "print(\"  recall:   \", recall_score(y_test, yhat))\n",
    "print(\"  f1 score: \", f1_score(y_test, yhat))"
   ]
  },
  {
   "cell_type": "code",
   "execution_count": null,
   "metadata": {},
   "outputs": [],
   "source": [
    "from sklearn.ensemble import GradientBoostingClassifier\n",
    "\n",
    "gbc = GradientBoostingClassifier(\n",
    "    learning_rate = 0.1, \n",
    "    min_samples_split=500,\n",
    "    min_samples_leaf=50,\n",
    "    max_depth=8,\n",
    "    max_features='sqrt',\n",
    "    subsample=0.8,\n",
    "    random_state=10,\n",
    "    n_estimators=950,\n",
    "    verbose=1\n",
    ")\n",
    "\n",
    "print(f\"training gradient boosting classifier...\")\n",
    "time0 = time.time()\n",
    "gbc.fit(X_train, y_train)\n",
    "print(f\"training time: {time.time() - time0:.4}s\")"
   ]
  },
  {
   "cell_type": "code",
   "execution_count": null,
   "metadata": {},
   "outputs": [],
   "source": [
    "print(f\"Evaluating gradient boosting classifier:\")\n",
    "yhat = gbc.predict(X_test)\n",
    "\n",
    "print(\"  accuracy: \", accuracy_score(y_test, yhat))\n",
    "print(\"  precision:\", precision_score(y_test, yhat))\n",
    "print(\"  recall:   \", recall_score(y_test, yhat))\n",
    "print(\"  f1 score: \", f1_score(y_test, yhat))"
   ]
  },
  {
   "cell_type": "code",
   "execution_count": null,
   "metadata": {},
   "outputs": [],
   "source": [
    "print(f\"training gradient boosting classifier...\")\n",
    "time0 = time.time()\n",
    "gbc.fit(X, y)\n",
    "print(f\"training time: {time.time() - time0:.4}s\")"
   ]
  },
  {
   "cell_type": "code",
   "execution_count": null,
   "metadata": {},
   "outputs": [],
   "source": [
    "data_eval = pd.read_csv(root_folder+\"kevin-zhu/eval-extracted.csv\")\n",
    "X_eval = data_eval.drop(['line_id'], axis = 1)\n",
    "\n",
    "prediction = upgrades_eval[['line_id']].copy()\n",
    "prediction['upgrade'] = gbc.predict(X_eval)\n",
    "\n",
    "assert(len(prediction) == len(upgrades_eval))\n",
    "print(len(prediction))\n",
    "\n",
    "submission_path=root_folder+\"kevin-zhu/submission/2021-04-24.csv\"\n",
    "prediction.to_csv(submission_path,header=True,index=None)\n",
    "\n",
    "submission_path=root_folder+\"submission/2021-04-24.csv\"\n",
    "prediction.to_csv(submission_path,header=True,index=None)\n",
    "\n",
    "prediction"
   ]
  },
  {
   "cell_type": "code",
   "execution_count": null,
   "metadata": {},
   "outputs": [],
   "source": []
  }
 ],
 "metadata": {
  "kernelspec": {
   "display_name": "Python 3",
   "language": "python",
   "name": "python3"
  },
  "language_info": {
   "codemirror_mode": {
    "name": "ipython",
    "version": 3
   },
   "file_extension": ".py",
   "mimetype": "text/x-python",
   "name": "python",
   "nbconvert_exporter": "python",
   "pygments_lexer": "ipython3",
   "version": "3.7.6"
  }
 },
 "nbformat": 4,
 "nbformat_minor": 4
}
